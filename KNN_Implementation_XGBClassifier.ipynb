{
 "cells": [
  {
   "cell_type": "markdown",
   "id": "1fbc6349-81e5-4d14-beab-de3d0b4d621d",
   "metadata": {},
   "source": [
    "# Amazon Fine Food Reviews Analysis"
   ]
  },
  {
   "cell_type": "markdown",
   "id": "175e8330-6e61-4255-bfcb-b02a1795a65a",
   "metadata": {},
   "source": [
    "Data set Source: https://www.kaggle.com/datasets/snap/amazon-fine-food-reviews"
   ]
  },
  {
   "cell_type": "markdown",
   "id": "01b50b6e-bd4b-4c55-9dba-59ebd710b144",
   "metadata": {},
   "source": [
    "The Amazon Fine Food Reviews data set consists of reviews of fine foods."
   ]
  },
  {
   "cell_type": "markdown",
   "id": "eedca9bb-36b6-4bfa-b94a-e8db2eeea99a",
   "metadata": {},
   "source": [
    "- Total Data points: 568,454\n",
    "- Total Unique Users: 256,059\n",
    "- Total Products: 74,258\n",
    "- Time Preiod: Oct 1999 - Oct 2012\n",
    "- Number of Attributes/Columns in data: 10"
   ]
  },
  {
   "cell_type": "markdown",
   "id": "a0b7db32-5c6a-4b71-88b8-b141a3bc2f4d",
   "metadata": {},
   "source": [
    "Attributes/Features:\n",
    "1. Id\n",
    "2. ProductId\n",
    "3. UserId\n",
    "4. ProfileName\n",
    "5. HelpfulnessNumerator\n",
    "6. HelpfulnessDenominator\n",
    "7. Score\n",
    "8. Time\n",
    "9. Summary\n",
    "10. Text"
   ]
  },
  {
   "cell_type": "markdown",
   "id": "d1cdcc15-2cf1-4a0a-b1b4-a4a31e06f857",
   "metadata": {},
   "source": [
    "## Objective:"
   ]
  },
  {
   "cell_type": "markdown",
   "id": "0e5f27bc-a2e4-4d72-a775-0c29a3ab56ca",
   "metadata": {},
   "source": [
    "Given a review, determine whether the review is positive or negative."
   ]
  },
  {
   "cell_type": "markdown",
   "id": "b9b0e2c7-b312-4e2a-b665-917c6ef95e52",
   "metadata": {},
   "source": [
    "For this project we will be using our 'Score' column as the basis for our class label. Where a rating of 4 or higher will be categorized as a positive review and a rating of 2 or less will be categorized as a negative review.\n",
    "A rating of 3 in Neutral and will be ignored."
   ]
  },
  {
   "cell_type": "code",
   "execution_count": 6,
   "id": "8711854a-3ea4-4914-acce-7464c85ab59a",
   "metadata": {
    "tags": []
   },
   "outputs": [],
   "source": [
    "import sqlite3\n",
    "import pandas as pd\n",
    "import matplotlib.pyplot as plt\n",
    "import numpy as np\n",
    "import string\n",
    "import nltk\n",
    "from sklearn.feature_extraction.text import TfidfTransformer\n",
    "from sklearn.feature_extraction.text import TfidfVectorizer\n",
    "from sklearn.feature_extraction.text import CountVectorizer\n",
    "from sklearn.metrics import confusion_matrix\n",
    "from sklearn import metrics\n",
    "from sklearn.metrics import roc_curve, auc\n",
    "from nltk.stem.porter import PorterStemmer"
   ]
  },
  {
   "cell_type": "code",
   "execution_count": 7,
   "id": "64ce789b-439f-4a58-9c43-73f38b1e94fc",
   "metadata": {
    "tags": []
   },
   "outputs": [],
   "source": [
    "conn = sqlite3.connect('database.sqlite')"
   ]
  },
  {
   "cell_type": "code",
   "execution_count": 8,
   "id": "b9991cf4-5973-4265-ad7e-12109a29bfc6",
   "metadata": {
    "tags": []
   },
   "outputs": [],
   "source": [
    "raw_filtered_data = pd.read_sql_query(\"\"\"\n",
    "SELECT *\n",
    "FROM Reviews\n",
    "WHERE Score != 3\n",
    "\"\"\",conn)"
   ]
  },
  {
   "cell_type": "code",
   "execution_count": 9,
   "id": "3ac19e3b-dfa2-4111-8b23-6c8d148e336c",
   "metadata": {
    "tags": []
   },
   "outputs": [
    {
     "data": {
      "text/html": [
       "<div>\n",
       "<style scoped>\n",
       "    .dataframe tbody tr th:only-of-type {\n",
       "        vertical-align: middle;\n",
       "    }\n",
       "\n",
       "    .dataframe tbody tr th {\n",
       "        vertical-align: top;\n",
       "    }\n",
       "\n",
       "    .dataframe thead th {\n",
       "        text-align: right;\n",
       "    }\n",
       "</style>\n",
       "<table border=\"1\" class=\"dataframe\">\n",
       "  <thead>\n",
       "    <tr style=\"text-align: right;\">\n",
       "      <th></th>\n",
       "      <th>Id</th>\n",
       "      <th>ProductId</th>\n",
       "      <th>UserId</th>\n",
       "      <th>ProfileName</th>\n",
       "      <th>HelpfulnessNumerator</th>\n",
       "      <th>HelpfulnessDenominator</th>\n",
       "      <th>Score</th>\n",
       "      <th>Time</th>\n",
       "      <th>Summary</th>\n",
       "      <th>Text</th>\n",
       "    </tr>\n",
       "  </thead>\n",
       "  <tbody>\n",
       "    <tr>\n",
       "      <th>0</th>\n",
       "      <td>1</td>\n",
       "      <td>B001E4KFG0</td>\n",
       "      <td>A3SGXH7AUHU8GW</td>\n",
       "      <td>delmartian</td>\n",
       "      <td>1</td>\n",
       "      <td>1</td>\n",
       "      <td>5</td>\n",
       "      <td>1303862400</td>\n",
       "      <td>Good Quality Dog Food</td>\n",
       "      <td>I have bought several of the Vitality canned d...</td>\n",
       "    </tr>\n",
       "    <tr>\n",
       "      <th>1</th>\n",
       "      <td>2</td>\n",
       "      <td>B00813GRG4</td>\n",
       "      <td>A1D87F6ZCVE5NK</td>\n",
       "      <td>dll pa</td>\n",
       "      <td>0</td>\n",
       "      <td>0</td>\n",
       "      <td>1</td>\n",
       "      <td>1346976000</td>\n",
       "      <td>Not as Advertised</td>\n",
       "      <td>Product arrived labeled as Jumbo Salted Peanut...</td>\n",
       "    </tr>\n",
       "    <tr>\n",
       "      <th>2</th>\n",
       "      <td>3</td>\n",
       "      <td>B000LQOCH0</td>\n",
       "      <td>ABXLMWJIXXAIN</td>\n",
       "      <td>Natalia Corres \"Natalia Corres\"</td>\n",
       "      <td>1</td>\n",
       "      <td>1</td>\n",
       "      <td>4</td>\n",
       "      <td>1219017600</td>\n",
       "      <td>\"Delight\" says it all</td>\n",
       "      <td>This is a confection that has been around a fe...</td>\n",
       "    </tr>\n",
       "    <tr>\n",
       "      <th>3</th>\n",
       "      <td>4</td>\n",
       "      <td>B000UA0QIQ</td>\n",
       "      <td>A395BORC6FGVXV</td>\n",
       "      <td>Karl</td>\n",
       "      <td>3</td>\n",
       "      <td>3</td>\n",
       "      <td>2</td>\n",
       "      <td>1307923200</td>\n",
       "      <td>Cough Medicine</td>\n",
       "      <td>If you are looking for the secret ingredient i...</td>\n",
       "    </tr>\n",
       "    <tr>\n",
       "      <th>4</th>\n",
       "      <td>5</td>\n",
       "      <td>B006K2ZZ7K</td>\n",
       "      <td>A1UQRSCLF8GW1T</td>\n",
       "      <td>Michael D. Bigham \"M. Wassir\"</td>\n",
       "      <td>0</td>\n",
       "      <td>0</td>\n",
       "      <td>5</td>\n",
       "      <td>1350777600</td>\n",
       "      <td>Great taffy</td>\n",
       "      <td>Great taffy at a great price.  There was a wid...</td>\n",
       "    </tr>\n",
       "  </tbody>\n",
       "</table>\n",
       "</div>"
      ],
      "text/plain": [
       "   Id   ProductId          UserId                      ProfileName  \\\n",
       "0   1  B001E4KFG0  A3SGXH7AUHU8GW                       delmartian   \n",
       "1   2  B00813GRG4  A1D87F6ZCVE5NK                           dll pa   \n",
       "2   3  B000LQOCH0   ABXLMWJIXXAIN  Natalia Corres \"Natalia Corres\"   \n",
       "3   4  B000UA0QIQ  A395BORC6FGVXV                             Karl   \n",
       "4   5  B006K2ZZ7K  A1UQRSCLF8GW1T    Michael D. Bigham \"M. Wassir\"   \n",
       "\n",
       "   HelpfulnessNumerator  HelpfulnessDenominator  Score        Time  \\\n",
       "0                     1                       1      5  1303862400   \n",
       "1                     0                       0      1  1346976000   \n",
       "2                     1                       1      4  1219017600   \n",
       "3                     3                       3      2  1307923200   \n",
       "4                     0                       0      5  1350777600   \n",
       "\n",
       "                 Summary                                               Text  \n",
       "0  Good Quality Dog Food  I have bought several of the Vitality canned d...  \n",
       "1      Not as Advertised  Product arrived labeled as Jumbo Salted Peanut...  \n",
       "2  \"Delight\" says it all  This is a confection that has been around a fe...  \n",
       "3         Cough Medicine  If you are looking for the secret ingredient i...  \n",
       "4            Great taffy  Great taffy at a great price.  There was a wid...  "
      ]
     },
     "execution_count": 9,
     "metadata": {},
     "output_type": "execute_result"
    }
   ],
   "source": [
    "raw_filtered_data.head()"
   ]
  },
  {
   "cell_type": "code",
   "execution_count": 10,
   "id": "9eacbdd1-d9e4-4d84-9605-1c0ab66970be",
   "metadata": {
    "tags": []
   },
   "outputs": [
    {
     "data": {
      "text/plain": [
       "Index(['Id', 'ProductId', 'UserId', 'ProfileName', 'HelpfulnessNumerator',\n",
       "       'HelpfulnessDenominator', 'Score', 'Time', 'Summary', 'Text'],\n",
       "      dtype='object')"
      ]
     },
     "execution_count": 10,
     "metadata": {},
     "output_type": "execute_result"
    }
   ],
   "source": [
    "raw_filtered_data.columns"
   ]
  },
  {
   "cell_type": "code",
   "execution_count": 11,
   "id": "0b3c1e41-402f-4fc2-96df-f2edc3175cbe",
   "metadata": {
    "tags": []
   },
   "outputs": [],
   "source": [
    "def make_label(x):\n",
    "    if x > 3:\n",
    "        return 'Positive'\n",
    "    else: \n",
    "        return 'Negative'"
   ]
  },
  {
   "cell_type": "code",
   "execution_count": 12,
   "id": "a224fdf8-5721-41c2-a783-90640111b4b8",
   "metadata": {
    "tags": []
   },
   "outputs": [
    {
     "data": {
      "text/html": [
       "<div>\n",
       "<style scoped>\n",
       "    .dataframe tbody tr th:only-of-type {\n",
       "        vertical-align: middle;\n",
       "    }\n",
       "\n",
       "    .dataframe tbody tr th {\n",
       "        vertical-align: top;\n",
       "    }\n",
       "\n",
       "    .dataframe thead th {\n",
       "        text-align: right;\n",
       "    }\n",
       "</style>\n",
       "<table border=\"1\" class=\"dataframe\">\n",
       "  <thead>\n",
       "    <tr style=\"text-align: right;\">\n",
       "      <th></th>\n",
       "      <th>Id</th>\n",
       "      <th>ProductId</th>\n",
       "      <th>UserId</th>\n",
       "      <th>ProfileName</th>\n",
       "      <th>HelpfulnessNumerator</th>\n",
       "      <th>HelpfulnessDenominator</th>\n",
       "      <th>Score</th>\n",
       "      <th>Time</th>\n",
       "      <th>Summary</th>\n",
       "      <th>Text</th>\n",
       "    </tr>\n",
       "  </thead>\n",
       "  <tbody>\n",
       "    <tr>\n",
       "      <th>0</th>\n",
       "      <td>1</td>\n",
       "      <td>B001E4KFG0</td>\n",
       "      <td>A3SGXH7AUHU8GW</td>\n",
       "      <td>delmartian</td>\n",
       "      <td>1</td>\n",
       "      <td>1</td>\n",
       "      <td>Positive</td>\n",
       "      <td>1303862400</td>\n",
       "      <td>Good Quality Dog Food</td>\n",
       "      <td>I have bought several of the Vitality canned d...</td>\n",
       "    </tr>\n",
       "    <tr>\n",
       "      <th>1</th>\n",
       "      <td>2</td>\n",
       "      <td>B00813GRG4</td>\n",
       "      <td>A1D87F6ZCVE5NK</td>\n",
       "      <td>dll pa</td>\n",
       "      <td>0</td>\n",
       "      <td>0</td>\n",
       "      <td>Negative</td>\n",
       "      <td>1346976000</td>\n",
       "      <td>Not as Advertised</td>\n",
       "      <td>Product arrived labeled as Jumbo Salted Peanut...</td>\n",
       "    </tr>\n",
       "    <tr>\n",
       "      <th>2</th>\n",
       "      <td>3</td>\n",
       "      <td>B000LQOCH0</td>\n",
       "      <td>ABXLMWJIXXAIN</td>\n",
       "      <td>Natalia Corres \"Natalia Corres\"</td>\n",
       "      <td>1</td>\n",
       "      <td>1</td>\n",
       "      <td>Positive</td>\n",
       "      <td>1219017600</td>\n",
       "      <td>\"Delight\" says it all</td>\n",
       "      <td>This is a confection that has been around a fe...</td>\n",
       "    </tr>\n",
       "    <tr>\n",
       "      <th>3</th>\n",
       "      <td>4</td>\n",
       "      <td>B000UA0QIQ</td>\n",
       "      <td>A395BORC6FGVXV</td>\n",
       "      <td>Karl</td>\n",
       "      <td>3</td>\n",
       "      <td>3</td>\n",
       "      <td>Negative</td>\n",
       "      <td>1307923200</td>\n",
       "      <td>Cough Medicine</td>\n",
       "      <td>If you are looking for the secret ingredient i...</td>\n",
       "    </tr>\n",
       "    <tr>\n",
       "      <th>4</th>\n",
       "      <td>5</td>\n",
       "      <td>B006K2ZZ7K</td>\n",
       "      <td>A1UQRSCLF8GW1T</td>\n",
       "      <td>Michael D. Bigham \"M. Wassir\"</td>\n",
       "      <td>0</td>\n",
       "      <td>0</td>\n",
       "      <td>Positive</td>\n",
       "      <td>1350777600</td>\n",
       "      <td>Great taffy</td>\n",
       "      <td>Great taffy at a great price.  There was a wid...</td>\n",
       "    </tr>\n",
       "    <tr>\n",
       "      <th>...</th>\n",
       "      <td>...</td>\n",
       "      <td>...</td>\n",
       "      <td>...</td>\n",
       "      <td>...</td>\n",
       "      <td>...</td>\n",
       "      <td>...</td>\n",
       "      <td>...</td>\n",
       "      <td>...</td>\n",
       "      <td>...</td>\n",
       "      <td>...</td>\n",
       "    </tr>\n",
       "    <tr>\n",
       "      <th>525809</th>\n",
       "      <td>568450</td>\n",
       "      <td>B001EO7N10</td>\n",
       "      <td>A28KG5XORO54AY</td>\n",
       "      <td>Lettie D. Carter</td>\n",
       "      <td>0</td>\n",
       "      <td>0</td>\n",
       "      <td>Positive</td>\n",
       "      <td>1299628800</td>\n",
       "      <td>Will not do without</td>\n",
       "      <td>Great for sesame chicken..this is a good if no...</td>\n",
       "    </tr>\n",
       "    <tr>\n",
       "      <th>525810</th>\n",
       "      <td>568451</td>\n",
       "      <td>B003S1WTCU</td>\n",
       "      <td>A3I8AFVPEE8KI5</td>\n",
       "      <td>R. Sawyer</td>\n",
       "      <td>0</td>\n",
       "      <td>0</td>\n",
       "      <td>Negative</td>\n",
       "      <td>1331251200</td>\n",
       "      <td>disappointed</td>\n",
       "      <td>I'm disappointed with the flavor. The chocolat...</td>\n",
       "    </tr>\n",
       "    <tr>\n",
       "      <th>525811</th>\n",
       "      <td>568452</td>\n",
       "      <td>B004I613EE</td>\n",
       "      <td>A121AA1GQV751Z</td>\n",
       "      <td>pksd \"pk_007\"</td>\n",
       "      <td>2</td>\n",
       "      <td>2</td>\n",
       "      <td>Positive</td>\n",
       "      <td>1329782400</td>\n",
       "      <td>Perfect for our maltipoo</td>\n",
       "      <td>These stars are small, so you can give 10-15 o...</td>\n",
       "    </tr>\n",
       "    <tr>\n",
       "      <th>525812</th>\n",
       "      <td>568453</td>\n",
       "      <td>B004I613EE</td>\n",
       "      <td>A3IBEVCTXKNOH</td>\n",
       "      <td>Kathy A. Welch \"katwel\"</td>\n",
       "      <td>1</td>\n",
       "      <td>1</td>\n",
       "      <td>Positive</td>\n",
       "      <td>1331596800</td>\n",
       "      <td>Favorite Training and reward treat</td>\n",
       "      <td>These are the BEST treats for training and rew...</td>\n",
       "    </tr>\n",
       "    <tr>\n",
       "      <th>525813</th>\n",
       "      <td>568454</td>\n",
       "      <td>B001LR2CU2</td>\n",
       "      <td>A3LGQPJCZVL9UC</td>\n",
       "      <td>srfell17</td>\n",
       "      <td>0</td>\n",
       "      <td>0</td>\n",
       "      <td>Positive</td>\n",
       "      <td>1338422400</td>\n",
       "      <td>Great Honey</td>\n",
       "      <td>I am very satisfied ,product is as advertised,...</td>\n",
       "    </tr>\n",
       "  </tbody>\n",
       "</table>\n",
       "<p>525814 rows × 10 columns</p>\n",
       "</div>"
      ],
      "text/plain": [
       "            Id   ProductId          UserId                      ProfileName  \\\n",
       "0            1  B001E4KFG0  A3SGXH7AUHU8GW                       delmartian   \n",
       "1            2  B00813GRG4  A1D87F6ZCVE5NK                           dll pa   \n",
       "2            3  B000LQOCH0   ABXLMWJIXXAIN  Natalia Corres \"Natalia Corres\"   \n",
       "3            4  B000UA0QIQ  A395BORC6FGVXV                             Karl   \n",
       "4            5  B006K2ZZ7K  A1UQRSCLF8GW1T    Michael D. Bigham \"M. Wassir\"   \n",
       "...        ...         ...             ...                              ...   \n",
       "525809  568450  B001EO7N10  A28KG5XORO54AY                 Lettie D. Carter   \n",
       "525810  568451  B003S1WTCU  A3I8AFVPEE8KI5                        R. Sawyer   \n",
       "525811  568452  B004I613EE  A121AA1GQV751Z                    pksd \"pk_007\"   \n",
       "525812  568453  B004I613EE   A3IBEVCTXKNOH          Kathy A. Welch \"katwel\"   \n",
       "525813  568454  B001LR2CU2  A3LGQPJCZVL9UC                         srfell17   \n",
       "\n",
       "        HelpfulnessNumerator  HelpfulnessDenominator     Score        Time  \\\n",
       "0                          1                       1  Positive  1303862400   \n",
       "1                          0                       0  Negative  1346976000   \n",
       "2                          1                       1  Positive  1219017600   \n",
       "3                          3                       3  Negative  1307923200   \n",
       "4                          0                       0  Positive  1350777600   \n",
       "...                      ...                     ...       ...         ...   \n",
       "525809                     0                       0  Positive  1299628800   \n",
       "525810                     0                       0  Negative  1331251200   \n",
       "525811                     2                       2  Positive  1329782400   \n",
       "525812                     1                       1  Positive  1331596800   \n",
       "525813                     0                       0  Positive  1338422400   \n",
       "\n",
       "                                   Summary  \\\n",
       "0                    Good Quality Dog Food   \n",
       "1                        Not as Advertised   \n",
       "2                    \"Delight\" says it all   \n",
       "3                           Cough Medicine   \n",
       "4                              Great taffy   \n",
       "...                                    ...   \n",
       "525809                 Will not do without   \n",
       "525810                        disappointed   \n",
       "525811            Perfect for our maltipoo   \n",
       "525812  Favorite Training and reward treat   \n",
       "525813                         Great Honey   \n",
       "\n",
       "                                                     Text  \n",
       "0       I have bought several of the Vitality canned d...  \n",
       "1       Product arrived labeled as Jumbo Salted Peanut...  \n",
       "2       This is a confection that has been around a fe...  \n",
       "3       If you are looking for the secret ingredient i...  \n",
       "4       Great taffy at a great price.  There was a wid...  \n",
       "...                                                   ...  \n",
       "525809  Great for sesame chicken..this is a good if no...  \n",
       "525810  I'm disappointed with the flavor. The chocolat...  \n",
       "525811  These stars are small, so you can give 10-15 o...  \n",
       "525812  These are the BEST treats for training and rew...  \n",
       "525813  I am very satisfied ,product is as advertised,...  \n",
       "\n",
       "[525814 rows x 10 columns]"
      ]
     },
     "execution_count": 12,
     "metadata": {},
     "output_type": "execute_result"
    }
   ],
   "source": [
    "raw_filtered_data['Score'] = raw_filtered_data['Score'].map(make_label)\n",
    "raw_filtered_data"
   ]
  },
  {
   "cell_type": "markdown",
   "id": "10fe84b3-9609-4c7b-8f29-bb6f7f874e6f",
   "metadata": {},
   "source": [
    "## Data Cleaning"
   ]
  },
  {
   "cell_type": "code",
   "execution_count": 13,
   "id": "cae0f696-2006-4caa-b949-01bef589cfa5",
   "metadata": {
    "tags": []
   },
   "outputs": [
    {
     "data": {
      "text/html": [
       "<div>\n",
       "<style scoped>\n",
       "    .dataframe tbody tr th:only-of-type {\n",
       "        vertical-align: middle;\n",
       "    }\n",
       "\n",
       "    .dataframe tbody tr th {\n",
       "        vertical-align: top;\n",
       "    }\n",
       "\n",
       "    .dataframe thead th {\n",
       "        text-align: right;\n",
       "    }\n",
       "</style>\n",
       "<table border=\"1\" class=\"dataframe\">\n",
       "  <thead>\n",
       "    <tr style=\"text-align: right;\">\n",
       "      <th></th>\n",
       "      <th>UserId</th>\n",
       "      <th>ProductId</th>\n",
       "      <th>Common_Count</th>\n",
       "    </tr>\n",
       "  </thead>\n",
       "  <tbody>\n",
       "    <tr>\n",
       "      <th>0</th>\n",
       "      <td>A1033RWNZWEMR5</td>\n",
       "      <td>B00004RYGX</td>\n",
       "      <td>3</td>\n",
       "    </tr>\n",
       "    <tr>\n",
       "      <th>1</th>\n",
       "      <td>A1048CYU0OV4O8</td>\n",
       "      <td>B00004RYGX</td>\n",
       "      <td>3</td>\n",
       "    </tr>\n",
       "    <tr>\n",
       "      <th>2</th>\n",
       "      <td>A10L8O1ZMUIMR2</td>\n",
       "      <td>B00004RYGX</td>\n",
       "      <td>3</td>\n",
       "    </tr>\n",
       "    <tr>\n",
       "      <th>3</th>\n",
       "      <td>A11QN7NDE3AROH</td>\n",
       "      <td>B00004RYGX</td>\n",
       "      <td>3</td>\n",
       "    </tr>\n",
       "    <tr>\n",
       "      <th>4</th>\n",
       "      <td>A157XTSMJH9XA4</td>\n",
       "      <td>B00004RYGX</td>\n",
       "      <td>3</td>\n",
       "    </tr>\n",
       "    <tr>\n",
       "      <th>...</th>\n",
       "      <td>...</td>\n",
       "      <td>...</td>\n",
       "      <td>...</td>\n",
       "    </tr>\n",
       "    <tr>\n",
       "      <th>53004</th>\n",
       "      <td>A8Y0K5BEEW2LP</td>\n",
       "      <td>B009NTCO4O</td>\n",
       "      <td>5</td>\n",
       "    </tr>\n",
       "    <tr>\n",
       "      <th>53005</th>\n",
       "      <td>AVFP6Y641X6CZ</td>\n",
       "      <td>B009NTCO4O</td>\n",
       "      <td>5</td>\n",
       "    </tr>\n",
       "    <tr>\n",
       "      <th>53006</th>\n",
       "      <td>A3RTG00GE3NXQU</td>\n",
       "      <td>B009OM66IU</td>\n",
       "      <td>4</td>\n",
       "    </tr>\n",
       "    <tr>\n",
       "      <th>53007</th>\n",
       "      <td>ABE4NMHQOP4W4</td>\n",
       "      <td>B009OM66IU</td>\n",
       "      <td>4</td>\n",
       "    </tr>\n",
       "    <tr>\n",
       "      <th>53008</th>\n",
       "      <td>AJVB004EB0MVK</td>\n",
       "      <td>B009UOFU20</td>\n",
       "      <td>4</td>\n",
       "    </tr>\n",
       "  </tbody>\n",
       "</table>\n",
       "<p>53009 rows × 3 columns</p>\n",
       "</div>"
      ],
      "text/plain": [
       "               UserId   ProductId  Common_Count\n",
       "0      A1033RWNZWEMR5  B00004RYGX             3\n",
       "1      A1048CYU0OV4O8  B00004RYGX             3\n",
       "2      A10L8O1ZMUIMR2  B00004RYGX             3\n",
       "3      A11QN7NDE3AROH  B00004RYGX             3\n",
       "4      A157XTSMJH9XA4  B00004RYGX             3\n",
       "...               ...         ...           ...\n",
       "53004   A8Y0K5BEEW2LP  B009NTCO4O             5\n",
       "53005   AVFP6Y641X6CZ  B009NTCO4O             5\n",
       "53006  A3RTG00GE3NXQU  B009OM66IU             4\n",
       "53007   ABE4NMHQOP4W4  B009OM66IU             4\n",
       "53008   AJVB004EB0MVK  B009UOFU20             4\n",
       "\n",
       "[53009 rows x 3 columns]"
      ]
     },
     "execution_count": 13,
     "metadata": {},
     "output_type": "execute_result"
    }
   ],
   "source": [
    "display = pd.read_sql_query(\"\"\"\n",
    "SELECT userID, productID, count(userID) as Common_Count\n",
    "FROM Reviews\n",
    "WHERE Score != 3 \n",
    "GROUP BY userID, ProfileName , Summary , Text, Time\n",
    "HAVING count(userID) > 1\n",
    "ORDER BY ProductID\n",
    "\"\"\", conn)\n",
    "display"
   ]
  },
  {
   "cell_type": "code",
   "execution_count": 14,
   "id": "b7aeff4c-acd4-43ba-a6ac-71726491fba5",
   "metadata": {
    "tags": []
   },
   "outputs": [],
   "source": [
    "sorted_filtered_data = raw_filtered_data.sort_values('ProductId',  ascending = True, )"
   ]
  },
  {
   "cell_type": "code",
   "execution_count": 15,
   "id": "ae5dcd6a-c7e1-47cd-8897-76fb9182bc45",
   "metadata": {
    "tags": []
   },
   "outputs": [
    {
     "data": {
      "text/plain": [
       "(525814, 10)"
      ]
     },
     "execution_count": 15,
     "metadata": {},
     "output_type": "execute_result"
    }
   ],
   "source": [
    "sorted_filtered_data.shape"
   ]
  },
  {
   "cell_type": "code",
   "execution_count": 16,
   "id": "f8896a1f-97b2-44e8-b3c3-aa74f95f9d36",
   "metadata": {
    "tags": []
   },
   "outputs": [
    {
     "name": "stdout",
     "output_type": "stream",
     "text": [
      "Shape Before: (525814, 10)\n",
      "Shape After:  (365293, 10)\n"
     ]
    }
   ],
   "source": [
    "print(f\"Shape Before: {sorted_filtered_data.shape}\")\n",
    "final_filtered_data = sorted_filtered_data.drop_duplicates(subset=[\"UserId\", \"Summary\", \"Text\", \"Time\"], keep='first', inplace=False)\n",
    "print(f\"Shape After:  {final_filtered_data.shape}\")"
   ]
  },
  {
   "cell_type": "code",
   "execution_count": 17,
   "id": "6dec8c4f-7a71-4f14-b3fa-9d882817b347",
   "metadata": {
    "tags": []
   },
   "outputs": [
    {
     "name": "stdout",
     "output_type": "stream",
     "text": [
      "Percentage of common reviews69.47190451376342\n"
     ]
    }
   ],
   "source": [
    "print(f\"Percentage of common reviews{final_filtered_data.shape[0]*100/sorted_filtered_data.shape[0]}\")"
   ]
  },
  {
   "cell_type": "code",
   "execution_count": 18,
   "id": "1124d419-3ef1-4fdc-9342-2718dcd2eb64",
   "metadata": {
    "tags": []
   },
   "outputs": [
    {
     "data": {
      "text/html": [
       "<div>\n",
       "<style scoped>\n",
       "    .dataframe tbody tr th:only-of-type {\n",
       "        vertical-align: middle;\n",
       "    }\n",
       "\n",
       "    .dataframe tbody tr th {\n",
       "        vertical-align: top;\n",
       "    }\n",
       "\n",
       "    .dataframe thead th {\n",
       "        text-align: right;\n",
       "    }\n",
       "</style>\n",
       "<table border=\"1\" class=\"dataframe\">\n",
       "  <thead>\n",
       "    <tr style=\"text-align: right;\">\n",
       "      <th></th>\n",
       "      <th>Id</th>\n",
       "      <th>ProductId</th>\n",
       "      <th>UserId</th>\n",
       "      <th>ProfileName</th>\n",
       "      <th>HelpfulnessNumerator</th>\n",
       "      <th>HelpfulnessDenominator</th>\n",
       "      <th>Score</th>\n",
       "      <th>Time</th>\n",
       "      <th>Summary</th>\n",
       "      <th>Text</th>\n",
       "    </tr>\n",
       "  </thead>\n",
       "  <tbody>\n",
       "    <tr>\n",
       "      <th>0</th>\n",
       "      <td>44737</td>\n",
       "      <td>B001EQ55RW</td>\n",
       "      <td>A2V0I904FH7ABY</td>\n",
       "      <td>Ram</td>\n",
       "      <td>3</td>\n",
       "      <td>2</td>\n",
       "      <td>4</td>\n",
       "      <td>1212883200</td>\n",
       "      <td>Pure cocoa taste with crunchy almonds inside</td>\n",
       "      <td>It was almost a 'love at first bite' - the per...</td>\n",
       "    </tr>\n",
       "    <tr>\n",
       "      <th>1</th>\n",
       "      <td>64422</td>\n",
       "      <td>B000MIDROQ</td>\n",
       "      <td>A161DK06JJMCYF</td>\n",
       "      <td>J. E. Stephens \"Jeanne\"</td>\n",
       "      <td>3</td>\n",
       "      <td>1</td>\n",
       "      <td>5</td>\n",
       "      <td>1224892800</td>\n",
       "      <td>Bought This for My Son at College</td>\n",
       "      <td>My son loves spaghetti so I didn't hesitate or...</td>\n",
       "    </tr>\n",
       "  </tbody>\n",
       "</table>\n",
       "</div>"
      ],
      "text/plain": [
       "      Id   ProductId          UserId              ProfileName  \\\n",
       "0  44737  B001EQ55RW  A2V0I904FH7ABY                      Ram   \n",
       "1  64422  B000MIDROQ  A161DK06JJMCYF  J. E. Stephens \"Jeanne\"   \n",
       "\n",
       "   HelpfulnessNumerator  HelpfulnessDenominator  Score        Time  \\\n",
       "0                     3                       2      4  1212883200   \n",
       "1                     3                       1      5  1224892800   \n",
       "\n",
       "                                        Summary  \\\n",
       "0  Pure cocoa taste with crunchy almonds inside   \n",
       "1             Bought This for My Son at College   \n",
       "\n",
       "                                                Text  \n",
       "0  It was almost a 'love at first bite' - the per...  \n",
       "1  My son loves spaghetti so I didn't hesitate or...  "
      ]
     },
     "execution_count": 18,
     "metadata": {},
     "output_type": "execute_result"
    }
   ],
   "source": [
    "display = pd.read_sql_query(\"\"\"\n",
    "SELECT * FROM Reviews\n",
    "WHERE Score != 3 AND HelpfulnessNumerator > HelpfulnessDenominator\n",
    "\"\"\",conn)\n",
    "display"
   ]
  },
  {
   "cell_type": "code",
   "execution_count": 19,
   "id": "41cd9566-2666-4d31-9e30-9bac912115b8",
   "metadata": {
    "tags": []
   },
   "outputs": [],
   "source": [
    "final_filtered_data = final_filtered_data[final_filtered_data.HelpfulnessNumerator <= final_filtered_data.HelpfulnessDenominator]"
   ]
  },
  {
   "cell_type": "code",
   "execution_count": 20,
   "id": "17d286db-2431-44e4-8144-f9f9ac7369d1",
   "metadata": {
    "tags": []
   },
   "outputs": [
    {
     "data": {
      "text/plain": [
       "(365291, 10)"
      ]
     },
     "execution_count": 20,
     "metadata": {},
     "output_type": "execute_result"
    }
   ],
   "source": [
    "final_filtered_data.shape"
   ]
  },
  {
   "cell_type": "code",
   "execution_count": 21,
   "id": "8ccc5603-183a-4780-bd3c-1fa67c8fc5b9",
   "metadata": {
    "tags": []
   },
   "outputs": [
    {
     "data": {
      "text/plain": [
       "Score\n",
       "Positive    307932\n",
       "Negative     57359\n",
       "Name: count, dtype: int64"
      ]
     },
     "execution_count": 21,
     "metadata": {},
     "output_type": "execute_result"
    }
   ],
   "source": [
    "final_filtered_data['Score'].value_counts()"
   ]
  },
  {
   "cell_type": "markdown",
   "id": "ab82b602-2088-470b-b535-a83c448da666",
   "metadata": {},
   "source": [
    "## Bag of Words"
   ]
  },
  {
   "cell_type": "code",
   "execution_count": 22,
   "id": "13792593-e315-45f4-aa89-68701263dede",
   "metadata": {
    "tags": []
   },
   "outputs": [],
   "source": [
    "count_vect = CountVectorizer() # To compute Bag of Words representation(from scikit-learn) \n",
    "final_counts = count_vect.fit_transform(final_filtered_data['Text'].values)"
   ]
  },
  {
   "cell_type": "code",
   "execution_count": 23,
   "id": "2ce4e6e6-f764-436a-9607-42c28a89cd66",
   "metadata": {
    "tags": []
   },
   "outputs": [
    {
     "data": {
      "text/plain": [
       "<365291x115281 sparse matrix of type '<class 'numpy.int64'>'\n",
       "\twith 19418882 stored elements in Compressed Sparse Row format>"
      ]
     },
     "execution_count": 23,
     "metadata": {},
     "output_type": "execute_result"
    }
   ],
   "source": [
    "final_counts"
   ]
  },
  {
   "cell_type": "markdown",
   "id": "851016f8-a973-4a31-a3b1-944e82980127",
   "metadata": {},
   "source": [
    "## Text Preprocessing:\n",
    "### - Stemming\n",
    "### - Stop-words removal\n",
    "### - Lemmatization"
   ]
  },
  {
   "cell_type": "markdown",
   "id": "f5a152e9-d52d-4f24-af37-6da56bb50ea4",
   "metadata": {},
   "source": [
    "### Steps\n",
    "- Remove html tags (eg: `<br>`, `<a href>`)\n",
    "- Remove punctuation marks and characters like (. , #)\n",
    "- Check if word is made of english letters and not junk(alpha-numeric eg: a87sd87)\n",
    "- Check for length greater than 2 (There are no adjectives in less than 2 letters)\n",
    "- Convert to lowercase \n",
    "- Remove Stopwords\n",
    "- Perform stemming (Snowball Stemming) to remove similar words(eg: taste, tasty,tasteful) "
   ]
  },
  {
   "cell_type": "code",
   "execution_count": 24,
   "id": "6ea1b05f-c298-4b94-84c2-0c98e97096ba",
   "metadata": {
    "tags": []
   },
   "outputs": [],
   "source": [
    "import re\n",
    "import string \n",
    "from nltk.stem import SnowballStemmer\n",
    "from nltk.stem.wordnet import WordNetLemmatizer"
   ]
  },
  {
   "cell_type": "code",
   "execution_count": 25,
   "id": "e41b6b9a-b224-4499-8639-6322a989cde1",
   "metadata": {
    "tags": []
   },
   "outputs": [],
   "source": [
    "stop_words = {'a', 'about', 'above', 'after', 'again', 'against', 'ain', 'all', 'am', 'an', 'and', 'any', 'are', 'aren', \"aren't\", 'as', 'at', 'be', 'because', 'been', 'before', 'being', 'below', 'between', 'both', 'but', 'by', 'can', 'couldn', \"couldn't\", 'd', 'did', 'didn', \"didn't\", 'do', 'does', 'doesn', \"doesn't\", 'doing', 'don', \"don't\", 'down', 'during', 'each', 'few', 'for', 'from', 'further', 'had', 'hadn', \"hadn't\", 'has', 'hasn', \"hasn't\", 'have', 'haven', \"haven't\", 'having', 'he', 'her', 'here', 'hers', 'herself', 'him', 'himself', 'his', 'how', 'i', 'if', 'in', 'into', 'is', 'isn', \"isn't\", 'it', \"it's\", 'its', 'itself', 'just', 'll', 'm', 'ma', 'me', 'mightn', \"mightn't\", 'more', 'most', 'mustn', \"mustn't\", 'my', 'myself', 'needn', \"needn't\", 'no', 'nor', 'not', 'now', 'o', 'of', 'off', 'on', 'once', 'only', 'or', 'other', 'our', 'ours', 'ourselves', 'out', 'over', 'own', 're', 's', 'same', 'shan', \"shan't\", 'she', \"she's\", 'should', \"should've\", 'shouldn', \"shouldn't\", 'so', 'some', 'such', 't', 'than', 'that', \"that'll\", 'the', 'their', 'theirs', 'them', 'themselves', 'then', 'there', 'these', 'they', 'this', 'those', 'through', 'to', 'too', 'under', 'until', 'up', 've', 'very', 'was', 'wasn', \"wasn't\", 'we', 'were', 'weren', \"weren't\", 'what', 'when', 'where', 'which', 'while', 'who', 'whom', 'why', 'will', 'with', 'won', \"won't\", 'wouldn', \"wouldn't\", 'y', 'you', \"you'd\", \"you'll\", \"you're\", \"you've\", 'your', 'yours', 'yourself', 'yourselves'}\n",
    "snow = nltk.stem.SnowballStemmer('english')"
   ]
  },
  {
   "cell_type": "code",
   "execution_count": 26,
   "id": "0878f5ce-899f-4d02-bdb7-babcac3f7515",
   "metadata": {
    "tags": []
   },
   "outputs": [],
   "source": [
    "def cleanhtml(sentence):\n",
    "    cleanr = re.compile('<.*?>')\n",
    "    cleantext = re.sub(cleanr,' ',sentence)\n",
    "    return cleantext\n",
    "\n",
    "def clean_punctuation(sentence):\n",
    "    cleaned = re.sub(r'[?|!|\\'|\"|#]',r'',sentence)\n",
    "    cleaned = re.sub(r'[.|,|)|(|\\|/]',r' ',cleaned)\n",
    "    return cleaned"
   ]
  },
  {
   "cell_type": "code",
   "execution_count": 27,
   "id": "5e937660-dfbd-4f10-a689-282e502f577d",
   "metadata": {
    "tags": []
   },
   "outputs": [
    {
     "data": {
      "text/plain": [
       "\"this witty little book makes my son laugh at loud. i recite it in the car as we're driving along and he always can sing the refrain. he's learned about whales, India, drooping roses:  i love all the new words this book  introduces and the silliness of it all.  this is a classic book i am  willing to bet my son will STILL be able to recite from memory when he is  in college\""
      ]
     },
     "execution_count": 27,
     "metadata": {},
     "output_type": "execute_result"
    }
   ],
   "source": [
    "final_filtered_data['Text'].values[0]"
   ]
  },
  {
   "cell_type": "code",
   "execution_count": 28,
   "id": "adb4220b-2474-43a5-b8ba-e2fcc178becd",
   "metadata": {
    "tags": []
   },
   "outputs": [],
   "source": [
    "i=0\n",
    "all_positive_words = []\n",
    "all_negative_words = []\n",
    "final_strings = []\n",
    "s = ''\n",
    "for sent in final_filtered_data['Text']:\n",
    "    filtered_sentence = []\n",
    "    sent= cleanhtml(sent)\n",
    "    for w in sent.split():\n",
    "        cleaned_word = clean_punctuation(w)\n",
    "        if((cleaned_word.isalpha()) & (len(cleaned_word)>2)):\n",
    "            if cleaned_word.lower() not in stop_words :\n",
    "                s = (snow.stem(cleaned_word.lower())).encode('utf8')\n",
    "                filtered_sentence.append(s)\n",
    "                if(final_filtered_data['Score'].values)[i] =='Positive':\n",
    "                    all_positive_words.append(s)\n",
    "                else:\n",
    "                    all_negative_words.append(s)\n",
    "    strl = b\" \".join(filtered_sentence) \n",
    "    final_strings.append(strl)  \n",
    "    i+=1"
   ]
  },
  {
   "cell_type": "markdown",
   "id": "c2f4b0ab-8549-46a8-804a-769540a66188",
   "metadata": {},
   "source": [
    "## Add cleaned text to the dataframe"
   ]
  },
  {
   "cell_type": "code",
   "execution_count": 29,
   "id": "1717868a-08d3-48f3-8143-c5ccbd90f9aa",
   "metadata": {
    "tags": []
   },
   "outputs": [],
   "source": [
    "final_filtered_data['CleanedText'] = final_strings"
   ]
  },
  {
   "cell_type": "code",
   "execution_count": 30,
   "id": "34b58cb1-fcf3-49b7-a6b5-618b6b3dc054",
   "metadata": {},
   "outputs": [
    {
     "data": {
      "text/html": [
       "<div>\n",
       "<style scoped>\n",
       "    .dataframe tbody tr th:only-of-type {\n",
       "        vertical-align: middle;\n",
       "    }\n",
       "\n",
       "    .dataframe tbody tr th {\n",
       "        vertical-align: top;\n",
       "    }\n",
       "\n",
       "    .dataframe thead th {\n",
       "        text-align: right;\n",
       "    }\n",
       "</style>\n",
       "<table border=\"1\" class=\"dataframe\">\n",
       "  <thead>\n",
       "    <tr style=\"text-align: right;\">\n",
       "      <th></th>\n",
       "      <th>Id</th>\n",
       "      <th>ProductId</th>\n",
       "      <th>UserId</th>\n",
       "      <th>ProfileName</th>\n",
       "      <th>HelpfulnessNumerator</th>\n",
       "      <th>HelpfulnessDenominator</th>\n",
       "      <th>Score</th>\n",
       "      <th>Time</th>\n",
       "      <th>Summary</th>\n",
       "      <th>Text</th>\n",
       "      <th>CleanedText</th>\n",
       "    </tr>\n",
       "  </thead>\n",
       "  <tbody>\n",
       "    <tr>\n",
       "      <th>138706</th>\n",
       "      <td>150524</td>\n",
       "      <td>0006641040</td>\n",
       "      <td>ACITT7DI6IDDL</td>\n",
       "      <td>shari zychinski</td>\n",
       "      <td>0</td>\n",
       "      <td>0</td>\n",
       "      <td>Positive</td>\n",
       "      <td>939340800</td>\n",
       "      <td>EVERY book is educational</td>\n",
       "      <td>this witty little book makes my son laugh at l...</td>\n",
       "      <td>b'witti littl book make son laugh recit car dr...</td>\n",
       "    </tr>\n",
       "    <tr>\n",
       "      <th>138688</th>\n",
       "      <td>150506</td>\n",
       "      <td>0006641040</td>\n",
       "      <td>A2IW4PEEKO2R0U</td>\n",
       "      <td>Tracy</td>\n",
       "      <td>1</td>\n",
       "      <td>1</td>\n",
       "      <td>Positive</td>\n",
       "      <td>1194739200</td>\n",
       "      <td>Love the book, miss the hard cover version</td>\n",
       "      <td>I grew up reading these Sendak books, and watc...</td>\n",
       "      <td>b'grew read sendak watch realli rosi movi inco...</td>\n",
       "    </tr>\n",
       "    <tr>\n",
       "      <th>138689</th>\n",
       "      <td>150507</td>\n",
       "      <td>0006641040</td>\n",
       "      <td>A1S4A3IQ2MU7V4</td>\n",
       "      <td>sally sue \"sally sue\"</td>\n",
       "      <td>1</td>\n",
       "      <td>1</td>\n",
       "      <td>Positive</td>\n",
       "      <td>1191456000</td>\n",
       "      <td>chicken soup with rice months</td>\n",
       "      <td>This is a fun way for children to learn their ...</td>\n",
       "      <td>b'fun way children learn month year learn poem...</td>\n",
       "    </tr>\n",
       "    <tr>\n",
       "      <th>138690</th>\n",
       "      <td>150508</td>\n",
       "      <td>0006641040</td>\n",
       "      <td>AZGXZ2UUK6X</td>\n",
       "      <td>Catherine Hallberg \"(Kate)\"</td>\n",
       "      <td>1</td>\n",
       "      <td>1</td>\n",
       "      <td>Positive</td>\n",
       "      <td>1076025600</td>\n",
       "      <td>a good swingy rhythm for reading aloud</td>\n",
       "      <td>This is a great little book to read aloud- it ...</td>\n",
       "      <td>b'great littl book read nice rhythm well good ...</td>\n",
       "    </tr>\n",
       "    <tr>\n",
       "      <th>138691</th>\n",
       "      <td>150509</td>\n",
       "      <td>0006641040</td>\n",
       "      <td>A3CMRKGE0P909G</td>\n",
       "      <td>Teresa</td>\n",
       "      <td>3</td>\n",
       "      <td>4</td>\n",
       "      <td>Positive</td>\n",
       "      <td>1018396800</td>\n",
       "      <td>A great way to learn the months</td>\n",
       "      <td>This is a book of poetry about the months of t...</td>\n",
       "      <td>b'book poetri month goe month cute littl poem ...</td>\n",
       "    </tr>\n",
       "    <tr>\n",
       "      <th>...</th>\n",
       "      <td>...</td>\n",
       "      <td>...</td>\n",
       "      <td>...</td>\n",
       "      <td>...</td>\n",
       "      <td>...</td>\n",
       "      <td>...</td>\n",
       "      <td>...</td>\n",
       "      <td>...</td>\n",
       "      <td>...</td>\n",
       "      <td>...</td>\n",
       "      <td>...</td>\n",
       "    </tr>\n",
       "    <tr>\n",
       "      <th>178145</th>\n",
       "      <td>193174</td>\n",
       "      <td>B009RSR8HO</td>\n",
       "      <td>A4P6AN2L435PV</td>\n",
       "      <td>romarc</td>\n",
       "      <td>0</td>\n",
       "      <td>0</td>\n",
       "      <td>Positive</td>\n",
       "      <td>1350432000</td>\n",
       "      <td>LOVE!!  LOVE!!</td>\n",
       "      <td>LOVE, LOVE this sweetener!!  I use it in all m...</td>\n",
       "      <td>b'love sweeten use unsweeten flavor unsweeten ...</td>\n",
       "    </tr>\n",
       "    <tr>\n",
       "      <th>173675</th>\n",
       "      <td>188389</td>\n",
       "      <td>B009SF0TN6</td>\n",
       "      <td>A1L0GWGRK4BYPT</td>\n",
       "      <td>Bety Robinson</td>\n",
       "      <td>0</td>\n",
       "      <td>0</td>\n",
       "      <td>Positive</td>\n",
       "      <td>1350518400</td>\n",
       "      <td>Amazing!! Great sauce for everything!</td>\n",
       "      <td>You have to try this sauce to believe it! It s...</td>\n",
       "      <td>b'tri sauc believ start littl sweet honey tast...</td>\n",
       "    </tr>\n",
       "    <tr>\n",
       "      <th>204727</th>\n",
       "      <td>221795</td>\n",
       "      <td>B009SR4OQ2</td>\n",
       "      <td>A32A6X5KCP7ARG</td>\n",
       "      <td>sicamar</td>\n",
       "      <td>1</td>\n",
       "      <td>1</td>\n",
       "      <td>Positive</td>\n",
       "      <td>1350604800</td>\n",
       "      <td>Awesome Taste</td>\n",
       "      <td>I bought this Hazelnut Paste (Nocciola Spread)...</td>\n",
       "      <td>b'bought hazelnut past local shop palm tast ex...</td>\n",
       "    </tr>\n",
       "    <tr>\n",
       "      <th>5259</th>\n",
       "      <td>5703</td>\n",
       "      <td>B009WSNWC4</td>\n",
       "      <td>AMP7K1O84DH1T</td>\n",
       "      <td>ESTY</td>\n",
       "      <td>0</td>\n",
       "      <td>0</td>\n",
       "      <td>Positive</td>\n",
       "      <td>1351209600</td>\n",
       "      <td>DELICIOUS</td>\n",
       "      <td>Purchased this product at a local store in NY ...</td>\n",
       "      <td>b'purchas product local store kid love quick e...</td>\n",
       "    </tr>\n",
       "    <tr>\n",
       "      <th>302474</th>\n",
       "      <td>327601</td>\n",
       "      <td>B009WVB40S</td>\n",
       "      <td>A3ME78KVX31T21</td>\n",
       "      <td>K'la</td>\n",
       "      <td>0</td>\n",
       "      <td>0</td>\n",
       "      <td>Positive</td>\n",
       "      <td>1351123200</td>\n",
       "      <td>Tasty!</td>\n",
       "      <td>I purchased this to send to my son who's away ...</td>\n",
       "      <td>b'purchas send son whos away deliv right dorm ...</td>\n",
       "    </tr>\n",
       "  </tbody>\n",
       "</table>\n",
       "<p>365291 rows × 11 columns</p>\n",
       "</div>"
      ],
      "text/plain": [
       "            Id   ProductId          UserId                  ProfileName  \\\n",
       "138706  150524  0006641040   ACITT7DI6IDDL              shari zychinski   \n",
       "138688  150506  0006641040  A2IW4PEEKO2R0U                        Tracy   \n",
       "138689  150507  0006641040  A1S4A3IQ2MU7V4        sally sue \"sally sue\"   \n",
       "138690  150508  0006641040     AZGXZ2UUK6X  Catherine Hallberg \"(Kate)\"   \n",
       "138691  150509  0006641040  A3CMRKGE0P909G                       Teresa   \n",
       "...        ...         ...             ...                          ...   \n",
       "178145  193174  B009RSR8HO   A4P6AN2L435PV                       romarc   \n",
       "173675  188389  B009SF0TN6  A1L0GWGRK4BYPT                Bety Robinson   \n",
       "204727  221795  B009SR4OQ2  A32A6X5KCP7ARG                      sicamar   \n",
       "5259      5703  B009WSNWC4   AMP7K1O84DH1T                         ESTY   \n",
       "302474  327601  B009WVB40S  A3ME78KVX31T21                         K'la   \n",
       "\n",
       "        HelpfulnessNumerator  HelpfulnessDenominator     Score        Time  \\\n",
       "138706                     0                       0  Positive   939340800   \n",
       "138688                     1                       1  Positive  1194739200   \n",
       "138689                     1                       1  Positive  1191456000   \n",
       "138690                     1                       1  Positive  1076025600   \n",
       "138691                     3                       4  Positive  1018396800   \n",
       "...                      ...                     ...       ...         ...   \n",
       "178145                     0                       0  Positive  1350432000   \n",
       "173675                     0                       0  Positive  1350518400   \n",
       "204727                     1                       1  Positive  1350604800   \n",
       "5259                       0                       0  Positive  1351209600   \n",
       "302474                     0                       0  Positive  1351123200   \n",
       "\n",
       "                                           Summary  \\\n",
       "138706                   EVERY book is educational   \n",
       "138688  Love the book, miss the hard cover version   \n",
       "138689               chicken soup with rice months   \n",
       "138690      a good swingy rhythm for reading aloud   \n",
       "138691             A great way to learn the months   \n",
       "...                                            ...   \n",
       "178145                              LOVE!!  LOVE!!   \n",
       "173675       Amazing!! Great sauce for everything!   \n",
       "204727                               Awesome Taste   \n",
       "5259                                     DELICIOUS   \n",
       "302474                                      Tasty!   \n",
       "\n",
       "                                                     Text  \\\n",
       "138706  this witty little book makes my son laugh at l...   \n",
       "138688  I grew up reading these Sendak books, and watc...   \n",
       "138689  This is a fun way for children to learn their ...   \n",
       "138690  This is a great little book to read aloud- it ...   \n",
       "138691  This is a book of poetry about the months of t...   \n",
       "...                                                   ...   \n",
       "178145  LOVE, LOVE this sweetener!!  I use it in all m...   \n",
       "173675  You have to try this sauce to believe it! It s...   \n",
       "204727  I bought this Hazelnut Paste (Nocciola Spread)...   \n",
       "5259    Purchased this product at a local store in NY ...   \n",
       "302474  I purchased this to send to my son who's away ...   \n",
       "\n",
       "                                              CleanedText  \n",
       "138706  b'witti littl book make son laugh recit car dr...  \n",
       "138688  b'grew read sendak watch realli rosi movi inco...  \n",
       "138689  b'fun way children learn month year learn poem...  \n",
       "138690  b'great littl book read nice rhythm well good ...  \n",
       "138691  b'book poetri month goe month cute littl poem ...  \n",
       "...                                                   ...  \n",
       "178145  b'love sweeten use unsweeten flavor unsweeten ...  \n",
       "173675  b'tri sauc believ start littl sweet honey tast...  \n",
       "204727  b'bought hazelnut past local shop palm tast ex...  \n",
       "5259    b'purchas product local store kid love quick e...  \n",
       "302474  b'purchas send son whos away deliv right dorm ...  \n",
       "\n",
       "[365291 rows x 11 columns]"
      ]
     },
     "execution_count": 30,
     "metadata": {},
     "output_type": "execute_result"
    }
   ],
   "source": [
    "final_filtered_data"
   ]
  },
  {
   "cell_type": "markdown",
   "id": "f1423534-93e8-4870-8dc7-3da4626c5c7e",
   "metadata": {},
   "source": [
    "## Create a new database with cleaned text for future use."
   ]
  },
  {
   "cell_type": "code",
   "execution_count": 31,
   "id": "bc3cb878-a570-4029-87b2-f598f803c4ec",
   "metadata": {},
   "outputs": [
    {
     "data": {
      "text/plain": [
       "365291"
      ]
     },
     "execution_count": 31,
     "metadata": {},
     "output_type": "execute_result"
    }
   ],
   "source": [
    "conn = sqlite3.connect('final.sqlite')\n",
    "c = conn.cursor()\n",
    "conn.text_factory = str\n",
    "final_filtered_data.to_sql('Reviews', conn,schema = None, if_exists = 'replace')"
   ]
  },
  {
   "cell_type": "code",
   "execution_count": 32,
   "id": "ba7a3245-2ea4-42f4-ae09-73368c6e1ff5",
   "metadata": {
    "tags": []
   },
   "outputs": [],
   "source": [
    "conn = sqlite3.connect('final.sqlite')\n",
    "final_filtered_data = pd.read_sql_query(\"\"\"\n",
    "SELECT *\n",
    "FROM Reviews\n",
    "WHERE Score != 3\n",
    "\"\"\",conn)"
   ]
  },
  {
   "cell_type": "markdown",
   "id": "1b5cccee-37c6-443d-8126-e6a9bc29ebb6",
   "metadata": {},
   "source": [
    "## Observing the Cleaned text"
   ]
  },
  {
   "cell_type": "code",
   "execution_count": 33,
   "id": "57af23c5-d40f-45e1-ac89-cb014e4e3e93",
   "metadata": {
    "tags": []
   },
   "outputs": [
    {
     "data": {
      "text/html": [
       "<div>\n",
       "<style scoped>\n",
       "    .dataframe tbody tr th:only-of-type {\n",
       "        vertical-align: middle;\n",
       "    }\n",
       "\n",
       "    .dataframe tbody tr th {\n",
       "        vertical-align: top;\n",
       "    }\n",
       "\n",
       "    .dataframe thead th {\n",
       "        text-align: right;\n",
       "    }\n",
       "</style>\n",
       "<table border=\"1\" class=\"dataframe\">\n",
       "  <thead>\n",
       "    <tr style=\"text-align: right;\">\n",
       "      <th></th>\n",
       "      <th>index</th>\n",
       "      <th>Id</th>\n",
       "      <th>ProductId</th>\n",
       "      <th>UserId</th>\n",
       "      <th>ProfileName</th>\n",
       "      <th>HelpfulnessNumerator</th>\n",
       "      <th>HelpfulnessDenominator</th>\n",
       "      <th>Score</th>\n",
       "      <th>Time</th>\n",
       "      <th>Summary</th>\n",
       "      <th>Text</th>\n",
       "      <th>CleanedText</th>\n",
       "    </tr>\n",
       "  </thead>\n",
       "  <tbody>\n",
       "    <tr>\n",
       "      <th>0</th>\n",
       "      <td>138706</td>\n",
       "      <td>150524</td>\n",
       "      <td>0006641040</td>\n",
       "      <td>ACITT7DI6IDDL</td>\n",
       "      <td>shari zychinski</td>\n",
       "      <td>0</td>\n",
       "      <td>0</td>\n",
       "      <td>Positive</td>\n",
       "      <td>939340800</td>\n",
       "      <td>EVERY book is educational</td>\n",
       "      <td>this witty little book makes my son laugh at l...</td>\n",
       "      <td>b'witti littl book make son laugh recit car dr...</td>\n",
       "    </tr>\n",
       "    <tr>\n",
       "      <th>1</th>\n",
       "      <td>138688</td>\n",
       "      <td>150506</td>\n",
       "      <td>0006641040</td>\n",
       "      <td>A2IW4PEEKO2R0U</td>\n",
       "      <td>Tracy</td>\n",
       "      <td>1</td>\n",
       "      <td>1</td>\n",
       "      <td>Positive</td>\n",
       "      <td>1194739200</td>\n",
       "      <td>Love the book, miss the hard cover version</td>\n",
       "      <td>I grew up reading these Sendak books, and watc...</td>\n",
       "      <td>b'grew read sendak watch realli rosi movi inco...</td>\n",
       "    </tr>\n",
       "    <tr>\n",
       "      <th>2</th>\n",
       "      <td>138689</td>\n",
       "      <td>150507</td>\n",
       "      <td>0006641040</td>\n",
       "      <td>A1S4A3IQ2MU7V4</td>\n",
       "      <td>sally sue \"sally sue\"</td>\n",
       "      <td>1</td>\n",
       "      <td>1</td>\n",
       "      <td>Positive</td>\n",
       "      <td>1191456000</td>\n",
       "      <td>chicken soup with rice months</td>\n",
       "      <td>This is a fun way for children to learn their ...</td>\n",
       "      <td>b'fun way children learn month year learn poem...</td>\n",
       "    </tr>\n",
       "    <tr>\n",
       "      <th>3</th>\n",
       "      <td>138690</td>\n",
       "      <td>150508</td>\n",
       "      <td>0006641040</td>\n",
       "      <td>AZGXZ2UUK6X</td>\n",
       "      <td>Catherine Hallberg \"(Kate)\"</td>\n",
       "      <td>1</td>\n",
       "      <td>1</td>\n",
       "      <td>Positive</td>\n",
       "      <td>1076025600</td>\n",
       "      <td>a good swingy rhythm for reading aloud</td>\n",
       "      <td>This is a great little book to read aloud- it ...</td>\n",
       "      <td>b'great littl book read nice rhythm well good ...</td>\n",
       "    </tr>\n",
       "    <tr>\n",
       "      <th>4</th>\n",
       "      <td>138691</td>\n",
       "      <td>150509</td>\n",
       "      <td>0006641040</td>\n",
       "      <td>A3CMRKGE0P909G</td>\n",
       "      <td>Teresa</td>\n",
       "      <td>3</td>\n",
       "      <td>4</td>\n",
       "      <td>Positive</td>\n",
       "      <td>1018396800</td>\n",
       "      <td>A great way to learn the months</td>\n",
       "      <td>This is a book of poetry about the months of t...</td>\n",
       "      <td>b'book poetri month goe month cute littl poem ...</td>\n",
       "    </tr>\n",
       "    <tr>\n",
       "      <th>...</th>\n",
       "      <td>...</td>\n",
       "      <td>...</td>\n",
       "      <td>...</td>\n",
       "      <td>...</td>\n",
       "      <td>...</td>\n",
       "      <td>...</td>\n",
       "      <td>...</td>\n",
       "      <td>...</td>\n",
       "      <td>...</td>\n",
       "      <td>...</td>\n",
       "      <td>...</td>\n",
       "      <td>...</td>\n",
       "    </tr>\n",
       "    <tr>\n",
       "      <th>365286</th>\n",
       "      <td>178145</td>\n",
       "      <td>193174</td>\n",
       "      <td>B009RSR8HO</td>\n",
       "      <td>A4P6AN2L435PV</td>\n",
       "      <td>romarc</td>\n",
       "      <td>0</td>\n",
       "      <td>0</td>\n",
       "      <td>Positive</td>\n",
       "      <td>1350432000</td>\n",
       "      <td>LOVE!!  LOVE!!</td>\n",
       "      <td>LOVE, LOVE this sweetener!!  I use it in all m...</td>\n",
       "      <td>b'love sweeten use unsweeten flavor unsweeten ...</td>\n",
       "    </tr>\n",
       "    <tr>\n",
       "      <th>365287</th>\n",
       "      <td>173675</td>\n",
       "      <td>188389</td>\n",
       "      <td>B009SF0TN6</td>\n",
       "      <td>A1L0GWGRK4BYPT</td>\n",
       "      <td>Bety Robinson</td>\n",
       "      <td>0</td>\n",
       "      <td>0</td>\n",
       "      <td>Positive</td>\n",
       "      <td>1350518400</td>\n",
       "      <td>Amazing!! Great sauce for everything!</td>\n",
       "      <td>You have to try this sauce to believe it! It s...</td>\n",
       "      <td>b'tri sauc believ start littl sweet honey tast...</td>\n",
       "    </tr>\n",
       "    <tr>\n",
       "      <th>365288</th>\n",
       "      <td>204727</td>\n",
       "      <td>221795</td>\n",
       "      <td>B009SR4OQ2</td>\n",
       "      <td>A32A6X5KCP7ARG</td>\n",
       "      <td>sicamar</td>\n",
       "      <td>1</td>\n",
       "      <td>1</td>\n",
       "      <td>Positive</td>\n",
       "      <td>1350604800</td>\n",
       "      <td>Awesome Taste</td>\n",
       "      <td>I bought this Hazelnut Paste (Nocciola Spread)...</td>\n",
       "      <td>b'bought hazelnut past local shop palm tast ex...</td>\n",
       "    </tr>\n",
       "    <tr>\n",
       "      <th>365289</th>\n",
       "      <td>5259</td>\n",
       "      <td>5703</td>\n",
       "      <td>B009WSNWC4</td>\n",
       "      <td>AMP7K1O84DH1T</td>\n",
       "      <td>ESTY</td>\n",
       "      <td>0</td>\n",
       "      <td>0</td>\n",
       "      <td>Positive</td>\n",
       "      <td>1351209600</td>\n",
       "      <td>DELICIOUS</td>\n",
       "      <td>Purchased this product at a local store in NY ...</td>\n",
       "      <td>b'purchas product local store kid love quick e...</td>\n",
       "    </tr>\n",
       "    <tr>\n",
       "      <th>365290</th>\n",
       "      <td>302474</td>\n",
       "      <td>327601</td>\n",
       "      <td>B009WVB40S</td>\n",
       "      <td>A3ME78KVX31T21</td>\n",
       "      <td>K'la</td>\n",
       "      <td>0</td>\n",
       "      <td>0</td>\n",
       "      <td>Positive</td>\n",
       "      <td>1351123200</td>\n",
       "      <td>Tasty!</td>\n",
       "      <td>I purchased this to send to my son who's away ...</td>\n",
       "      <td>b'purchas send son whos away deliv right dorm ...</td>\n",
       "    </tr>\n",
       "  </tbody>\n",
       "</table>\n",
       "<p>365291 rows × 12 columns</p>\n",
       "</div>"
      ],
      "text/plain": [
       "         index      Id   ProductId          UserId  \\\n",
       "0       138706  150524  0006641040   ACITT7DI6IDDL   \n",
       "1       138688  150506  0006641040  A2IW4PEEKO2R0U   \n",
       "2       138689  150507  0006641040  A1S4A3IQ2MU7V4   \n",
       "3       138690  150508  0006641040     AZGXZ2UUK6X   \n",
       "4       138691  150509  0006641040  A3CMRKGE0P909G   \n",
       "...        ...     ...         ...             ...   \n",
       "365286  178145  193174  B009RSR8HO   A4P6AN2L435PV   \n",
       "365287  173675  188389  B009SF0TN6  A1L0GWGRK4BYPT   \n",
       "365288  204727  221795  B009SR4OQ2  A32A6X5KCP7ARG   \n",
       "365289    5259    5703  B009WSNWC4   AMP7K1O84DH1T   \n",
       "365290  302474  327601  B009WVB40S  A3ME78KVX31T21   \n",
       "\n",
       "                        ProfileName  HelpfulnessNumerator  \\\n",
       "0                   shari zychinski                     0   \n",
       "1                             Tracy                     1   \n",
       "2             sally sue \"sally sue\"                     1   \n",
       "3       Catherine Hallberg \"(Kate)\"                     1   \n",
       "4                            Teresa                     3   \n",
       "...                             ...                   ...   \n",
       "365286                       romarc                     0   \n",
       "365287                Bety Robinson                     0   \n",
       "365288                      sicamar                     1   \n",
       "365289                         ESTY                     0   \n",
       "365290                         K'la                     0   \n",
       "\n",
       "        HelpfulnessDenominator     Score        Time  \\\n",
       "0                            0  Positive   939340800   \n",
       "1                            1  Positive  1194739200   \n",
       "2                            1  Positive  1191456000   \n",
       "3                            1  Positive  1076025600   \n",
       "4                            4  Positive  1018396800   \n",
       "...                        ...       ...         ...   \n",
       "365286                       0  Positive  1350432000   \n",
       "365287                       0  Positive  1350518400   \n",
       "365288                       1  Positive  1350604800   \n",
       "365289                       0  Positive  1351209600   \n",
       "365290                       0  Positive  1351123200   \n",
       "\n",
       "                                           Summary  \\\n",
       "0                        EVERY book is educational   \n",
       "1       Love the book, miss the hard cover version   \n",
       "2                    chicken soup with rice months   \n",
       "3           a good swingy rhythm for reading aloud   \n",
       "4                  A great way to learn the months   \n",
       "...                                            ...   \n",
       "365286                              LOVE!!  LOVE!!   \n",
       "365287       Amazing!! Great sauce for everything!   \n",
       "365288                               Awesome Taste   \n",
       "365289                                   DELICIOUS   \n",
       "365290                                      Tasty!   \n",
       "\n",
       "                                                     Text  \\\n",
       "0       this witty little book makes my son laugh at l...   \n",
       "1       I grew up reading these Sendak books, and watc...   \n",
       "2       This is a fun way for children to learn their ...   \n",
       "3       This is a great little book to read aloud- it ...   \n",
       "4       This is a book of poetry about the months of t...   \n",
       "...                                                   ...   \n",
       "365286  LOVE, LOVE this sweetener!!  I use it in all m...   \n",
       "365287  You have to try this sauce to believe it! It s...   \n",
       "365288  I bought this Hazelnut Paste (Nocciola Spread)...   \n",
       "365289  Purchased this product at a local store in NY ...   \n",
       "365290  I purchased this to send to my son who's away ...   \n",
       "\n",
       "                                              CleanedText  \n",
       "0       b'witti littl book make son laugh recit car dr...  \n",
       "1       b'grew read sendak watch realli rosi movi inco...  \n",
       "2       b'fun way children learn month year learn poem...  \n",
       "3       b'great littl book read nice rhythm well good ...  \n",
       "4       b'book poetri month goe month cute littl poem ...  \n",
       "...                                                   ...  \n",
       "365286  b'love sweeten use unsweeten flavor unsweeten ...  \n",
       "365287  b'tri sauc believ start littl sweet honey tast...  \n",
       "365288  b'bought hazelnut past local shop palm tast ex...  \n",
       "365289  b'purchas product local store kid love quick e...  \n",
       "365290  b'purchas send son whos away deliv right dorm ...  \n",
       "\n",
       "[365291 rows x 12 columns]"
      ]
     },
     "execution_count": 33,
     "metadata": {},
     "output_type": "execute_result"
    }
   ],
   "source": [
    "final_filtered_data"
   ]
  },
  {
   "cell_type": "code",
   "execution_count": 34,
   "id": "9db8dd5c-4496-4510-bd66-d96c1d03636f",
   "metadata": {
    "tags": []
   },
   "outputs": [
    {
     "data": {
      "text/html": [
       "<div>\n",
       "<style scoped>\n",
       "    .dataframe tbody tr th:only-of-type {\n",
       "        vertical-align: middle;\n",
       "    }\n",
       "\n",
       "    .dataframe tbody tr th {\n",
       "        vertical-align: top;\n",
       "    }\n",
       "\n",
       "    .dataframe thead th {\n",
       "        text-align: right;\n",
       "    }\n",
       "</style>\n",
       "<table border=\"1\" class=\"dataframe\">\n",
       "  <thead>\n",
       "    <tr style=\"text-align: right;\">\n",
       "      <th></th>\n",
       "      <th>count(*)</th>\n",
       "    </tr>\n",
       "  </thead>\n",
       "  <tbody>\n",
       "    <tr>\n",
       "      <th>0</th>\n",
       "      <td>307932</td>\n",
       "    </tr>\n",
       "  </tbody>\n",
       "</table>\n",
       "</div>"
      ],
      "text/plain": [
       "   count(*)\n",
       "0    307932"
      ]
     },
     "execution_count": 34,
     "metadata": {},
     "output_type": "execute_result"
    }
   ],
   "source": [
    "pd.read_sql_query(\"\"\"\n",
    "SELECT count(*)\n",
    "FROM Reviews\n",
    "WHERE Score == 'Positive'\n",
    "\"\"\",conn)"
   ]
  },
  {
   "cell_type": "code",
   "execution_count": 35,
   "id": "3a8f5205-d717-4546-b5a8-e147a702b3b4",
   "metadata": {
    "tags": []
   },
   "outputs": [
    {
     "data": {
      "text/html": [
       "<div>\n",
       "<style scoped>\n",
       "    .dataframe tbody tr th:only-of-type {\n",
       "        vertical-align: middle;\n",
       "    }\n",
       "\n",
       "    .dataframe tbody tr th {\n",
       "        vertical-align: top;\n",
       "    }\n",
       "\n",
       "    .dataframe thead th {\n",
       "        text-align: right;\n",
       "    }\n",
       "</style>\n",
       "<table border=\"1\" class=\"dataframe\">\n",
       "  <thead>\n",
       "    <tr style=\"text-align: right;\">\n",
       "      <th></th>\n",
       "      <th>count(*)</th>\n",
       "    </tr>\n",
       "  </thead>\n",
       "  <tbody>\n",
       "    <tr>\n",
       "      <th>0</th>\n",
       "      <td>57359</td>\n",
       "    </tr>\n",
       "  </tbody>\n",
       "</table>\n",
       "</div>"
      ],
      "text/plain": [
       "   count(*)\n",
       "0     57359"
      ]
     },
     "execution_count": 35,
     "metadata": {},
     "output_type": "execute_result"
    }
   ],
   "source": [
    "pd.read_sql_query(\"\"\"\n",
    "SELECT count(*)\n",
    "FROM Reviews\n",
    "WHERE Score == 'Negative'\n",
    "\"\"\",conn)"
   ]
  },
  {
   "cell_type": "markdown",
   "id": "2af8f76a-e3fd-4b97-8e39-c2a98e33557f",
   "metadata": {},
   "source": [
    " "
   ]
  },
  {
   "cell_type": "markdown",
   "id": "7c19f7f7-8615-4c0a-b49e-0927fdb4b992",
   "metadata": {
    "tags": []
   },
   "source": [
    "### We now have words categorized into positive and negative."
   ]
  },
  {
   "cell_type": "code",
   "execution_count": 36,
   "id": "1d3d709e-3fce-4aa4-9f03-5ce99d1e084d",
   "metadata": {
    "tags": []
   },
   "outputs": [
    {
     "data": {
      "text/plain": [
       "[b'witti',\n",
       " b'purchas',\n",
       " b'youv',\n",
       " b'easili',\n",
       " b'eat',\n",
       " b'mani',\n",
       " b'old',\n",
       " b'shelf',\n",
       " b'assum',\n",
       " b'announc']"
      ]
     },
     "execution_count": 36,
     "metadata": {},
     "output_type": "execute_result"
    }
   ],
   "source": [
    "all_positive_words[::1000000]"
   ]
  },
  {
   "cell_type": "code",
   "execution_count": 37,
   "id": "f8536a2e-0d7f-4f55-8a5f-1f983541d343",
   "metadata": {
    "tags": []
   },
   "outputs": [
    {
     "data": {
      "text/plain": [
       "[b'one',\n",
       " b'mix',\n",
       " b'send',\n",
       " b'relas',\n",
       " b'nasti',\n",
       " b'buy',\n",
       " b'though',\n",
       " b'state',\n",
       " b'cigarett',\n",
       " b'process',\n",
       " b'hour',\n",
       " b'agre',\n",
       " b'box',\n",
       " b'assum',\n",
       " b'coffe',\n",
       " b'contact',\n",
       " b'eat',\n",
       " b'cooki',\n",
       " b'howev',\n",
       " b'get']"
      ]
     },
     "execution_count": 37,
     "metadata": {},
     "output_type": "execute_result"
    }
   ],
   "source": [
    "all_negative_words[::100000]"
   ]
  },
  {
   "cell_type": "markdown",
   "id": "e7974ac8-520c-4234-b703-a0810a67f3a1",
   "metadata": {},
   "source": [
    "### Make a Frequency Distribution for the TF-IDF calculation."
   ]
  },
  {
   "cell_type": "code",
   "execution_count": 38,
   "id": "2ccfe2f7-32e2-4c7f-b9af-8c8d77bacf40",
   "metadata": {},
   "outputs": [
    {
     "data": {
      "text/plain": [
       "FreqDist({b'like': 133703, b'tast': 104680, b'love': 104420, b'use': 97996, b'great': 88889, b'good': 88643, b'one': 86499, b'tri': 77071, b'flavor': 74857, b'make': 72695, ...})"
      ]
     },
     "execution_count": 38,
     "metadata": {},
     "output_type": "execute_result"
    }
   ],
   "source": [
    "freq_dist_positive = nltk.FreqDist(all_positive_words)\n",
    "freq_dist_negative = nltk.FreqDist(all_negative_words)\n",
    "freq_dist_positive"
   ]
  },
  {
   "cell_type": "code",
   "execution_count": 39,
   "id": "67e1847a-7443-48a1-b592-556d0c335371",
   "metadata": {},
   "outputs": [
    {
     "name": "stdout",
     "output_type": "stream",
     "text": [
      "Most common positive words:  [(b'like', 133703), (b'tast', 104680), (b'love', 104420), (b'use', 97996), (b'great', 88889), (b'good', 88643), (b'one', 86499), (b'tri', 77071), (b'flavor', 74857), (b'make', 72695)]\n",
      "Most common negative words:  [(b'like', 31019), (b'tast', 28727), (b'product', 20698), (b'one', 17873), (b'would', 17864), (b'tri', 16426), (b'use', 14469), (b'get', 13513), (b'buy', 13283), (b'flavor', 13238)]\n"
     ]
    }
   ],
   "source": [
    "print(\"Most common positive words: \",freq_dist_positive.most_common()[:10])\n",
    "print(\"Most common negative words: \",freq_dist_negative.most_common()[:10])"
   ]
  },
  {
   "cell_type": "markdown",
   "id": "fa918cb6-a396-4395-a8c3-0f330401840f",
   "metadata": {},
   "source": [
    "## Observation\n",
    "- Most common positive and negative words are common\n",
    "- Using Bi-grams could fix this issue"
   ]
  },
  {
   "cell_type": "markdown",
   "id": "9be4b4f6-9f04-4968-85e0-2bf7868bdd84",
   "metadata": {},
   "source": [
    "# TF- IDF"
   ]
  },
  {
   "cell_type": "code",
   "execution_count": 40,
   "id": "19c7b819-fa19-4532-9531-d6923e72416f",
   "metadata": {
    "tags": []
   },
   "outputs": [],
   "source": [
    "tf_idf_vect = TfidfVectorizer(ngram_range = (1,2))\n",
    "final_tf_idf = tf_idf_vect.fit_transform(final_filtered_data['CleanedText'].values)"
   ]
  },
  {
   "cell_type": "code",
   "execution_count": 41,
   "id": "5051ea14-8223-42cf-b31e-eca0e4173cce",
   "metadata": {
    "tags": []
   },
   "outputs": [
    {
     "data": {
      "text/plain": [
       "<365291x2591202 sparse matrix of type '<class 'numpy.float64'>'\n",
       "\twith 20643824 stored elements in Compressed Sparse Row format>"
      ]
     },
     "execution_count": 41,
     "metadata": {},
     "output_type": "execute_result"
    }
   ],
   "source": [
    "final_tf_idf"
   ]
  },
  {
   "cell_type": "code",
   "execution_count": 42,
   "id": "68749c9f-33f7-4d6b-9312-d0089532bd98",
   "metadata": {
    "tags": []
   },
   "outputs": [
    {
     "data": {
      "text/plain": [
       "2591202"
      ]
     },
     "execution_count": 42,
     "metadata": {},
     "output_type": "execute_result"
    }
   ],
   "source": [
    "features = tf_idf_vect.get_feature_names_out()\n",
    "len(features)"
   ]
  },
  {
   "cell_type": "code",
   "execution_count": 43,
   "id": "8683a8d6-078b-4aeb-a86c-3df343e3b45f",
   "metadata": {
    "tags": []
   },
   "outputs": [
    {
     "data": {
      "text/plain": [
       "array(['applesauc dont', 'applesauc dri', 'applesauc easili',\n",
       "       'applesauc eat', 'applesauc egg', 'applesauc enjoy',\n",
       "       'applesauc even', 'applesauc ever', 'applesauc everi',\n",
       "       'applesauc everytim'], dtype=object)"
      ]
     },
     "execution_count": 43,
     "metadata": {},
     "output_type": "execute_result"
    }
   ],
   "source": [
    "features[100000:100010]"
   ]
  },
  {
   "cell_type": "code",
   "execution_count": 44,
   "id": "8d565dca-d2ff-4f0c-aac1-3d64bd5cb76a",
   "metadata": {
    "tags": []
   },
   "outputs": [
    {
     "name": "stdout",
     "output_type": "stream",
     "text": [
      "2591202\n"
     ]
    }
   ],
   "source": [
    "print(len(final_tf_idf[3,:].toarray()[0]))"
   ]
  },
  {
   "cell_type": "markdown",
   "id": "ceb4385b-1791-4089-837c-52942699723d",
   "metadata": {},
   "source": [
    "### Create Function to return uni-gram, bi-gram with top tf_idf value with corresponding ranks"
   ]
  },
  {
   "cell_type": "markdown",
   "id": "a6225cde-3fff-41df-a946-6876ba8fcf10",
   "metadata": {},
   "source": [
    "- Since we obtained uncertain results by using uni-gram we also take bi-gram into consideration. This can be commonly seen in our dataset and in real-life that words often provide more meaning with the context.\n",
    "- It can be seen that \"like\" is the most common word in both positive and negative words but when we read the actual reviews with the whole context we find that the meaning of words is often altered by the word preceding or succeeding the given word.\n",
    "- eg: the words \"do like\", \"don't like\" will completely lose their meaning as soon as we use uni-gram.\n",
    "- therefore we will be using bi-gram which provides a good balance between the size of dataset produced and the quality of output."
   ]
  },
  {
   "cell_type": "code",
   "execution_count": 45,
   "id": "ee3ceedf-6e22-459f-af80-6f60aeb2f031",
   "metadata": {
    "tags": []
   },
   "outputs": [],
   "source": [
    "def top_tfidf_features(row,features,top_n=25):\n",
    "    topn_ids = np.argsort(row)[::-1][:top_n]\n",
    "    top_feats = [(features[i], row[i]) for i in topn_ids]\n",
    "    df = pd.DataFrame(top_feats)\n",
    "    df.columns = ['feature', 'tfidf']\n",
    "    return df\n",
    "\n",
    "top_tfidf = top_tfidf_features(final_tf_idf[1,:].toarray()[0], features,25)"
   ]
  },
  {
   "cell_type": "code",
   "execution_count": 46,
   "id": "6316b665-7d4c-4b6c-834a-3d0cda7f5b27",
   "metadata": {
    "tags": []
   },
   "outputs": [
    {
     "data": {
      "text/html": [
       "<div>\n",
       "<style scoped>\n",
       "    .dataframe tbody tr th:only-of-type {\n",
       "        vertical-align: middle;\n",
       "    }\n",
       "\n",
       "    .dataframe tbody tr th {\n",
       "        vertical-align: top;\n",
       "    }\n",
       "\n",
       "    .dataframe thead th {\n",
       "        text-align: right;\n",
       "    }\n",
       "</style>\n",
       "<table border=\"1\" class=\"dataframe\">\n",
       "  <thead>\n",
       "    <tr style=\"text-align: right;\">\n",
       "      <th></th>\n",
       "      <th>feature</th>\n",
       "      <th>tfidf</th>\n",
       "    </tr>\n",
       "  </thead>\n",
       "  <tbody>\n",
       "    <tr>\n",
       "      <th>0</th>\n",
       "      <td>cover paperback</td>\n",
       "      <td>0.206787</td>\n",
       "    </tr>\n",
       "    <tr>\n",
       "      <th>1</th>\n",
       "      <td>sendak watch</td>\n",
       "      <td>0.206787</td>\n",
       "    </tr>\n",
       "    <tr>\n",
       "      <th>2</th>\n",
       "      <td>rosi movi</td>\n",
       "      <td>0.206787</td>\n",
       "    </tr>\n",
       "    <tr>\n",
       "      <th>3</th>\n",
       "      <td>movi incorpor</td>\n",
       "      <td>0.206787</td>\n",
       "    </tr>\n",
       "    <tr>\n",
       "      <th>4</th>\n",
       "      <td>grew read</td>\n",
       "      <td>0.206787</td>\n",
       "    </tr>\n",
       "    <tr>\n",
       "      <th>5</th>\n",
       "      <td>flimsi take</td>\n",
       "      <td>0.206787</td>\n",
       "    </tr>\n",
       "    <tr>\n",
       "      <th>6</th>\n",
       "      <td>keep page</td>\n",
       "      <td>0.206787</td>\n",
       "    </tr>\n",
       "    <tr>\n",
       "      <th>7</th>\n",
       "      <td>paperback seem</td>\n",
       "      <td>0.206787</td>\n",
       "    </tr>\n",
       "    <tr>\n",
       "      <th>8</th>\n",
       "      <td>read sendak</td>\n",
       "      <td>0.206787</td>\n",
       "    </tr>\n",
       "    <tr>\n",
       "      <th>9</th>\n",
       "      <td>incorpor love</td>\n",
       "      <td>0.200394</td>\n",
       "    </tr>\n",
       "    <tr>\n",
       "      <th>10</th>\n",
       "      <td>realli rosi</td>\n",
       "      <td>0.200394</td>\n",
       "    </tr>\n",
       "    <tr>\n",
       "      <th>11</th>\n",
       "      <td>miss hard</td>\n",
       "      <td>0.195859</td>\n",
       "    </tr>\n",
       "    <tr>\n",
       "      <th>12</th>\n",
       "      <td>kind flimsi</td>\n",
       "      <td>0.192340</td>\n",
       "    </tr>\n",
       "    <tr>\n",
       "      <th>13</th>\n",
       "      <td>hard cover</td>\n",
       "      <td>0.189466</td>\n",
       "    </tr>\n",
       "    <tr>\n",
       "      <th>14</th>\n",
       "      <td>paperback</td>\n",
       "      <td>0.181412</td>\n",
       "    </tr>\n",
       "    <tr>\n",
       "      <th>15</th>\n",
       "      <td>sendak</td>\n",
       "      <td>0.179909</td>\n",
       "    </tr>\n",
       "    <tr>\n",
       "      <th>16</th>\n",
       "      <td>watch realli</td>\n",
       "      <td>0.177275</td>\n",
       "    </tr>\n",
       "    <tr>\n",
       "      <th>17</th>\n",
       "      <td>hand keep</td>\n",
       "      <td>0.170483</td>\n",
       "    </tr>\n",
       "    <tr>\n",
       "      <th>18</th>\n",
       "      <td>love miss</td>\n",
       "      <td>0.168279</td>\n",
       "    </tr>\n",
       "    <tr>\n",
       "      <th>19</th>\n",
       "      <td>two hand</td>\n",
       "      <td>0.164624</td>\n",
       "    </tr>\n",
       "    <tr>\n",
       "      <th>20</th>\n",
       "      <td>rosi</td>\n",
       "      <td>0.161215</td>\n",
       "    </tr>\n",
       "    <tr>\n",
       "      <th>21</th>\n",
       "      <td>seem kind</td>\n",
       "      <td>0.156354</td>\n",
       "    </tr>\n",
       "    <tr>\n",
       "      <th>22</th>\n",
       "      <td>love son</td>\n",
       "      <td>0.151658</td>\n",
       "    </tr>\n",
       "    <tr>\n",
       "      <th>23</th>\n",
       "      <td>take two</td>\n",
       "      <td>0.133560</td>\n",
       "    </tr>\n",
       "    <tr>\n",
       "      <th>24</th>\n",
       "      <td>flimsi</td>\n",
       "      <td>0.133111</td>\n",
       "    </tr>\n",
       "  </tbody>\n",
       "</table>\n",
       "</div>"
      ],
      "text/plain": [
       "            feature     tfidf\n",
       "0   cover paperback  0.206787\n",
       "1      sendak watch  0.206787\n",
       "2         rosi movi  0.206787\n",
       "3     movi incorpor  0.206787\n",
       "4         grew read  0.206787\n",
       "5       flimsi take  0.206787\n",
       "6         keep page  0.206787\n",
       "7    paperback seem  0.206787\n",
       "8       read sendak  0.206787\n",
       "9     incorpor love  0.200394\n",
       "10      realli rosi  0.200394\n",
       "11        miss hard  0.195859\n",
       "12      kind flimsi  0.192340\n",
       "13       hard cover  0.189466\n",
       "14        paperback  0.181412\n",
       "15           sendak  0.179909\n",
       "16     watch realli  0.177275\n",
       "17        hand keep  0.170483\n",
       "18        love miss  0.168279\n",
       "19         two hand  0.164624\n",
       "20             rosi  0.161215\n",
       "21        seem kind  0.156354\n",
       "22         love son  0.151658\n",
       "23         take two  0.133560\n",
       "24           flimsi  0.133111"
      ]
     },
     "execution_count": 46,
     "metadata": {},
     "output_type": "execute_result"
    }
   ],
   "source": [
    "top_tfidf"
   ]
  },
  {
   "cell_type": "code",
   "execution_count": null,
   "id": "61970a97-03c4-4ec4-84d7-84684b370d2e",
   "metadata": {},
   "outputs": [],
   "source": []
  },
  {
   "cell_type": "code",
   "execution_count": 47,
   "id": "df49fed8-9b37-4241-91a3-e191b453f09c",
   "metadata": {
    "tags": []
   },
   "outputs": [
    {
     "data": {
      "text/html": [
       "<div>\n",
       "<style scoped>\n",
       "    .dataframe tbody tr th:only-of-type {\n",
       "        vertical-align: middle;\n",
       "    }\n",
       "\n",
       "    .dataframe tbody tr th {\n",
       "        vertical-align: top;\n",
       "    }\n",
       "\n",
       "    .dataframe thead th {\n",
       "        text-align: right;\n",
       "    }\n",
       "</style>\n",
       "<table border=\"1\" class=\"dataframe\">\n",
       "  <thead>\n",
       "    <tr style=\"text-align: right;\">\n",
       "      <th></th>\n",
       "      <th>index</th>\n",
       "      <th>Id</th>\n",
       "      <th>ProductId</th>\n",
       "      <th>UserId</th>\n",
       "      <th>ProfileName</th>\n",
       "      <th>HelpfulnessNumerator</th>\n",
       "      <th>HelpfulnessDenominator</th>\n",
       "      <th>Score</th>\n",
       "      <th>Time</th>\n",
       "      <th>Summary</th>\n",
       "      <th>Text</th>\n",
       "      <th>CleanedText</th>\n",
       "    </tr>\n",
       "  </thead>\n",
       "  <tbody>\n",
       "    <tr>\n",
       "      <th>0</th>\n",
       "      <td>138706</td>\n",
       "      <td>150524</td>\n",
       "      <td>0006641040</td>\n",
       "      <td>ACITT7DI6IDDL</td>\n",
       "      <td>shari zychinski</td>\n",
       "      <td>0</td>\n",
       "      <td>0</td>\n",
       "      <td>Positive</td>\n",
       "      <td>939340800</td>\n",
       "      <td>EVERY book is educational</td>\n",
       "      <td>this witty little book makes my son laugh at l...</td>\n",
       "      <td>b'witti littl book make son laugh recit car dr...</td>\n",
       "    </tr>\n",
       "    <tr>\n",
       "      <th>1</th>\n",
       "      <td>138688</td>\n",
       "      <td>150506</td>\n",
       "      <td>0006641040</td>\n",
       "      <td>A2IW4PEEKO2R0U</td>\n",
       "      <td>Tracy</td>\n",
       "      <td>1</td>\n",
       "      <td>1</td>\n",
       "      <td>Positive</td>\n",
       "      <td>1194739200</td>\n",
       "      <td>Love the book, miss the hard cover version</td>\n",
       "      <td>I grew up reading these Sendak books, and watc...</td>\n",
       "      <td>b'grew read sendak watch realli rosi movi inco...</td>\n",
       "    </tr>\n",
       "    <tr>\n",
       "      <th>2</th>\n",
       "      <td>138689</td>\n",
       "      <td>150507</td>\n",
       "      <td>0006641040</td>\n",
       "      <td>A1S4A3IQ2MU7V4</td>\n",
       "      <td>sally sue \"sally sue\"</td>\n",
       "      <td>1</td>\n",
       "      <td>1</td>\n",
       "      <td>Positive</td>\n",
       "      <td>1191456000</td>\n",
       "      <td>chicken soup with rice months</td>\n",
       "      <td>This is a fun way for children to learn their ...</td>\n",
       "      <td>b'fun way children learn month year learn poem...</td>\n",
       "    </tr>\n",
       "    <tr>\n",
       "      <th>3</th>\n",
       "      <td>138690</td>\n",
       "      <td>150508</td>\n",
       "      <td>0006641040</td>\n",
       "      <td>AZGXZ2UUK6X</td>\n",
       "      <td>Catherine Hallberg \"(Kate)\"</td>\n",
       "      <td>1</td>\n",
       "      <td>1</td>\n",
       "      <td>Positive</td>\n",
       "      <td>1076025600</td>\n",
       "      <td>a good swingy rhythm for reading aloud</td>\n",
       "      <td>This is a great little book to read aloud- it ...</td>\n",
       "      <td>b'great littl book read nice rhythm well good ...</td>\n",
       "    </tr>\n",
       "    <tr>\n",
       "      <th>4</th>\n",
       "      <td>138691</td>\n",
       "      <td>150509</td>\n",
       "      <td>0006641040</td>\n",
       "      <td>A3CMRKGE0P909G</td>\n",
       "      <td>Teresa</td>\n",
       "      <td>3</td>\n",
       "      <td>4</td>\n",
       "      <td>Positive</td>\n",
       "      <td>1018396800</td>\n",
       "      <td>A great way to learn the months</td>\n",
       "      <td>This is a book of poetry about the months of t...</td>\n",
       "      <td>b'book poetri month goe month cute littl poem ...</td>\n",
       "    </tr>\n",
       "    <tr>\n",
       "      <th>...</th>\n",
       "      <td>...</td>\n",
       "      <td>...</td>\n",
       "      <td>...</td>\n",
       "      <td>...</td>\n",
       "      <td>...</td>\n",
       "      <td>...</td>\n",
       "      <td>...</td>\n",
       "      <td>...</td>\n",
       "      <td>...</td>\n",
       "      <td>...</td>\n",
       "      <td>...</td>\n",
       "      <td>...</td>\n",
       "    </tr>\n",
       "    <tr>\n",
       "      <th>365286</th>\n",
       "      <td>178145</td>\n",
       "      <td>193174</td>\n",
       "      <td>B009RSR8HO</td>\n",
       "      <td>A4P6AN2L435PV</td>\n",
       "      <td>romarc</td>\n",
       "      <td>0</td>\n",
       "      <td>0</td>\n",
       "      <td>Positive</td>\n",
       "      <td>1350432000</td>\n",
       "      <td>LOVE!!  LOVE!!</td>\n",
       "      <td>LOVE, LOVE this sweetener!!  I use it in all m...</td>\n",
       "      <td>b'love sweeten use unsweeten flavor unsweeten ...</td>\n",
       "    </tr>\n",
       "    <tr>\n",
       "      <th>365287</th>\n",
       "      <td>173675</td>\n",
       "      <td>188389</td>\n",
       "      <td>B009SF0TN6</td>\n",
       "      <td>A1L0GWGRK4BYPT</td>\n",
       "      <td>Bety Robinson</td>\n",
       "      <td>0</td>\n",
       "      <td>0</td>\n",
       "      <td>Positive</td>\n",
       "      <td>1350518400</td>\n",
       "      <td>Amazing!! Great sauce for everything!</td>\n",
       "      <td>You have to try this sauce to believe it! It s...</td>\n",
       "      <td>b'tri sauc believ start littl sweet honey tast...</td>\n",
       "    </tr>\n",
       "    <tr>\n",
       "      <th>365288</th>\n",
       "      <td>204727</td>\n",
       "      <td>221795</td>\n",
       "      <td>B009SR4OQ2</td>\n",
       "      <td>A32A6X5KCP7ARG</td>\n",
       "      <td>sicamar</td>\n",
       "      <td>1</td>\n",
       "      <td>1</td>\n",
       "      <td>Positive</td>\n",
       "      <td>1350604800</td>\n",
       "      <td>Awesome Taste</td>\n",
       "      <td>I bought this Hazelnut Paste (Nocciola Spread)...</td>\n",
       "      <td>b'bought hazelnut past local shop palm tast ex...</td>\n",
       "    </tr>\n",
       "    <tr>\n",
       "      <th>365289</th>\n",
       "      <td>5259</td>\n",
       "      <td>5703</td>\n",
       "      <td>B009WSNWC4</td>\n",
       "      <td>AMP7K1O84DH1T</td>\n",
       "      <td>ESTY</td>\n",
       "      <td>0</td>\n",
       "      <td>0</td>\n",
       "      <td>Positive</td>\n",
       "      <td>1351209600</td>\n",
       "      <td>DELICIOUS</td>\n",
       "      <td>Purchased this product at a local store in NY ...</td>\n",
       "      <td>b'purchas product local store kid love quick e...</td>\n",
       "    </tr>\n",
       "    <tr>\n",
       "      <th>365290</th>\n",
       "      <td>302474</td>\n",
       "      <td>327601</td>\n",
       "      <td>B009WVB40S</td>\n",
       "      <td>A3ME78KVX31T21</td>\n",
       "      <td>K'la</td>\n",
       "      <td>0</td>\n",
       "      <td>0</td>\n",
       "      <td>Positive</td>\n",
       "      <td>1351123200</td>\n",
       "      <td>Tasty!</td>\n",
       "      <td>I purchased this to send to my son who's away ...</td>\n",
       "      <td>b'purchas send son whos away deliv right dorm ...</td>\n",
       "    </tr>\n",
       "  </tbody>\n",
       "</table>\n",
       "<p>365291 rows × 12 columns</p>\n",
       "</div>"
      ],
      "text/plain": [
       "         index      Id   ProductId          UserId  \\\n",
       "0       138706  150524  0006641040   ACITT7DI6IDDL   \n",
       "1       138688  150506  0006641040  A2IW4PEEKO2R0U   \n",
       "2       138689  150507  0006641040  A1S4A3IQ2MU7V4   \n",
       "3       138690  150508  0006641040     AZGXZ2UUK6X   \n",
       "4       138691  150509  0006641040  A3CMRKGE0P909G   \n",
       "...        ...     ...         ...             ...   \n",
       "365286  178145  193174  B009RSR8HO   A4P6AN2L435PV   \n",
       "365287  173675  188389  B009SF0TN6  A1L0GWGRK4BYPT   \n",
       "365288  204727  221795  B009SR4OQ2  A32A6X5KCP7ARG   \n",
       "365289    5259    5703  B009WSNWC4   AMP7K1O84DH1T   \n",
       "365290  302474  327601  B009WVB40S  A3ME78KVX31T21   \n",
       "\n",
       "                        ProfileName  HelpfulnessNumerator  \\\n",
       "0                   shari zychinski                     0   \n",
       "1                             Tracy                     1   \n",
       "2             sally sue \"sally sue\"                     1   \n",
       "3       Catherine Hallberg \"(Kate)\"                     1   \n",
       "4                            Teresa                     3   \n",
       "...                             ...                   ...   \n",
       "365286                       romarc                     0   \n",
       "365287                Bety Robinson                     0   \n",
       "365288                      sicamar                     1   \n",
       "365289                         ESTY                     0   \n",
       "365290                         K'la                     0   \n",
       "\n",
       "        HelpfulnessDenominator     Score        Time  \\\n",
       "0                            0  Positive   939340800   \n",
       "1                            1  Positive  1194739200   \n",
       "2                            1  Positive  1191456000   \n",
       "3                            1  Positive  1076025600   \n",
       "4                            4  Positive  1018396800   \n",
       "...                        ...       ...         ...   \n",
       "365286                       0  Positive  1350432000   \n",
       "365287                       0  Positive  1350518400   \n",
       "365288                       1  Positive  1350604800   \n",
       "365289                       0  Positive  1351209600   \n",
       "365290                       0  Positive  1351123200   \n",
       "\n",
       "                                           Summary  \\\n",
       "0                        EVERY book is educational   \n",
       "1       Love the book, miss the hard cover version   \n",
       "2                    chicken soup with rice months   \n",
       "3           a good swingy rhythm for reading aloud   \n",
       "4                  A great way to learn the months   \n",
       "...                                            ...   \n",
       "365286                              LOVE!!  LOVE!!   \n",
       "365287       Amazing!! Great sauce for everything!   \n",
       "365288                               Awesome Taste   \n",
       "365289                                   DELICIOUS   \n",
       "365290                                      Tasty!   \n",
       "\n",
       "                                                     Text  \\\n",
       "0       this witty little book makes my son laugh at l...   \n",
       "1       I grew up reading these Sendak books, and watc...   \n",
       "2       This is a fun way for children to learn their ...   \n",
       "3       This is a great little book to read aloud- it ...   \n",
       "4       This is a book of poetry about the months of t...   \n",
       "...                                                   ...   \n",
       "365286  LOVE, LOVE this sweetener!!  I use it in all m...   \n",
       "365287  You have to try this sauce to believe it! It s...   \n",
       "365288  I bought this Hazelnut Paste (Nocciola Spread)...   \n",
       "365289  Purchased this product at a local store in NY ...   \n",
       "365290  I purchased this to send to my son who's away ...   \n",
       "\n",
       "                                              CleanedText  \n",
       "0       b'witti littl book make son laugh recit car dr...  \n",
       "1       b'grew read sendak watch realli rosi movi inco...  \n",
       "2       b'fun way children learn month year learn poem...  \n",
       "3       b'great littl book read nice rhythm well good ...  \n",
       "4       b'book poetri month goe month cute littl poem ...  \n",
       "...                                                   ...  \n",
       "365286  b'love sweeten use unsweeten flavor unsweeten ...  \n",
       "365287  b'tri sauc believ start littl sweet honey tast...  \n",
       "365288  b'bought hazelnut past local shop palm tast ex...  \n",
       "365289  b'purchas product local store kid love quick e...  \n",
       "365290  b'purchas send son whos away deliv right dorm ...  \n",
       "\n",
       "[365291 rows x 12 columns]"
      ]
     },
     "execution_count": 47,
     "metadata": {},
     "output_type": "execute_result"
    }
   ],
   "source": [
    "final_filtered_data"
   ]
  },
  {
   "cell_type": "code",
   "execution_count": 48,
   "id": "3db1b01b-9631-4143-b797-c1e471588b4e",
   "metadata": {
    "tags": []
   },
   "outputs": [],
   "source": [
    "from sklearn.preprocessing import OrdinalEncoder\n",
    "trf1 = OrdinalEncoder(categories=[['Positive', 'Negative']])  # Creating OrdinalEncoder object\n",
    "y_final = trf1.fit_transform(final_filtered_data[['Score']])  # Fitting and transforming data"
   ]
  },
  {
   "cell_type": "code",
   "execution_count": 49,
   "id": "a5c19fff-26df-47ee-a5b2-988f4cd675bc",
   "metadata": {
    "tags": []
   },
   "outputs": [],
   "source": [
    "from sklearn.model_selection import train_test_split\n",
    "from sklearn.neighbors import KNeighborsClassifier\n",
    "from sklearn.metrics import accuracy_score\n",
    "from sklearn.model_selection import cross_val_score\n",
    "from collections import Counter\n",
    "from sklearn.naive_bayes import BernoulliNB\n",
    "from sklearn.svm import SVC\n",
    "from sklearn.metrics import confusion_matrix\n",
    "from sklearn.metrics import f1_score"
   ]
  },
  {
   "cell_type": "code",
   "execution_count": 50,
   "id": "2cd12254-1f06-4477-b350-b3e094cd3964",
   "metadata": {},
   "outputs": [],
   "source": [
    "x_train, x_test, y_train, y_test = train_test_split(final_tf_idf,y_final,train_size = 0.7,random_state = 42) "
   ]
  },
  {
   "cell_type": "markdown",
   "id": "0ffda3af-3337-4b58-9db8-b56137ff9f5f",
   "metadata": {},
   "source": [
    "# Applying Boosted Decision Trees"
   ]
  },
  {
   "cell_type": "markdown",
   "id": "f8cb920e-853b-4eae-92b6-be849b10a892",
   "metadata": {},
   "source": [
    "-  ## Use optuna to fine tune the hyperparameters"
   ]
  },
  {
   "cell_type": "code",
   "execution_count": 51,
   "id": "cbbe37a5-aaa3-4b68-a2a7-c0dc34b5e26d",
   "metadata": {
    "tags": []
   },
   "outputs": [],
   "source": [
    "import optuna\n",
    "import numpy as np\n",
    "from xgboost import XGBClassifier\n",
    "from sklearn.model_selection import cross_validate\n"
   ]
  },
  {
   "cell_type": "markdown",
   "id": "43fc7012-86c4-427b-8f8c-732ace61dcea",
   "metadata": {},
   "source": [
    "def objective(trial):\n",
    "    max_depth = trial.suggest_int(\"max_depth\", 1, 10)\n",
    "    min_child_weight = trial.suggest_float(\"min_child_weight\", 0, 10)\n",
    "    gamma = trial.suggest_float(\"gamma\", 0, 1)\n",
    "    colsample_bytree = trial.suggest_float(\"colsample_bytree\", 0, 1)\n",
    "    subsample = trial.suggest_float(\"subsample\", 0, 1)\n",
    "    reg_alpha = trial.suggest_float(\"reg_alpha\", 0, 1)\n",
    "    n_estimators = trial.suggest_int(\"n_estimators\", 64, 128)\n",
    "    \n",
    "    params = {\n",
    "        \"max_depth\": max_depth,\n",
    "        \"min_child_weight\": min_child_weight,\n",
    "        \"gamma\": gamma,\n",
    "        \"colsample_bytree\": colsample_bytree,\n",
    "        \"subsample\": subsample,\n",
    "        \"reg_alpha\": reg_alpha,\n",
    "        \"n_estimators\": n_estimators,\n",
    "        \"num_class\": 2  # Assuming binary classification\n",
    "    }\n",
    "    \n",
    "    params[\"learning_rate\"] = 0.1\n",
    "    params[\"objective\"] = \"multi:softmax\"\n",
    "    params[\"nthread\"] = -1\n",
    "    \n",
    "    model = XGBClassifier(**params)\n",
    "\n",
    "    cv_results = cross_validate(model, x_train, y_train, cv=3, scoring='accuracy')\n",
    "    validation_score = np.mean(cv_results['test_score'])\n",
    "    \n",
    "    return -validation_score  # Optimize for the negative of the validation score\n",
    "\n",
    "sampler = optuna.samplers.TPESampler(seed=42)\n",
    "study = optuna.create_study(direction=\"minimize\", sampler=sampler)  # Minimize the negative validation score\n",
    "study.optimize(objective, n_trials=200)\n",
    "df_study = study.trials_dataframe()\n",
    "df_study_best = df_study.sort_values(by='value', ascending=True)\n",
    "best_params = study.best_params\n",
    "print(best_params)\n"
   ]
  },
  {
   "cell_type": "markdown",
   "id": "e4c12ded-d145-4d70-8304-6c433356fa77",
   "metadata": {},
   "source": [
    "[I 2024-02-12 00:40:41,661] Trial 40 finished with value: 0.8908377224498026 and parameters: {'max_depth': 9, 'min_child_weight': 1.5024504039270885, 'gamma': 0.4967196723475804, 'colsample_bytree': 0.9142646046644476, 'subsample': 0.9707744203981367, 'reg_alpha': 0.8413627673548031, 'n_estimators': 120}. Best is trial 40 with value: 0.8908377224498026."
   ]
  },
  {
   "cell_type": "code",
   "execution_count": 55,
   "id": "38021dc8-0851-4c77-9966-cdaf10c27f8d",
   "metadata": {},
   "outputs": [],
   "source": [
    "model = XGBClassifier(\n",
    "    max_depth=9,\n",
    "    min_child_weight=1.5024504039270885,\n",
    "    gamma=0.4967196723475804,\n",
    "    colsample_bytree=0.9142646046644476,\n",
    "    subsample=0.9707744203981367,\n",
    "    reg_alpha=0.8413627673548031,\n",
    "    n_estimators=120,\n",
    "    num_class=2,\n",
    "    learning_rate=0.1,\n",
    "    objective=\"multi:softmax\",\n",
    "    nthread=-1\n",
    ")"
   ]
  },
  {
   "cell_type": "code",
   "execution_count": 56,
   "id": "d3b7ee39-5158-483e-8c33-86f4496eee41",
   "metadata": {},
   "outputs": [
    {
     "data": {
      "text/html": [
       "<style>#sk-container-id-2 {color: black;}#sk-container-id-2 pre{padding: 0;}#sk-container-id-2 div.sk-toggleable {background-color: white;}#sk-container-id-2 label.sk-toggleable__label {cursor: pointer;display: block;width: 100%;margin-bottom: 0;padding: 0.3em;box-sizing: border-box;text-align: center;}#sk-container-id-2 label.sk-toggleable__label-arrow:before {content: \"▸\";float: left;margin-right: 0.25em;color: #696969;}#sk-container-id-2 label.sk-toggleable__label-arrow:hover:before {color: black;}#sk-container-id-2 div.sk-estimator:hover label.sk-toggleable__label-arrow:before {color: black;}#sk-container-id-2 div.sk-toggleable__content {max-height: 0;max-width: 0;overflow: hidden;text-align: left;background-color: #f0f8ff;}#sk-container-id-2 div.sk-toggleable__content pre {margin: 0.2em;color: black;border-radius: 0.25em;background-color: #f0f8ff;}#sk-container-id-2 input.sk-toggleable__control:checked~div.sk-toggleable__content {max-height: 200px;max-width: 100%;overflow: auto;}#sk-container-id-2 input.sk-toggleable__control:checked~label.sk-toggleable__label-arrow:before {content: \"▾\";}#sk-container-id-2 div.sk-estimator input.sk-toggleable__control:checked~label.sk-toggleable__label {background-color: #d4ebff;}#sk-container-id-2 div.sk-label input.sk-toggleable__control:checked~label.sk-toggleable__label {background-color: #d4ebff;}#sk-container-id-2 input.sk-hidden--visually {border: 0;clip: rect(1px 1px 1px 1px);clip: rect(1px, 1px, 1px, 1px);height: 1px;margin: -1px;overflow: hidden;padding: 0;position: absolute;width: 1px;}#sk-container-id-2 div.sk-estimator {font-family: monospace;background-color: #f0f8ff;border: 1px dotted black;border-radius: 0.25em;box-sizing: border-box;margin-bottom: 0.5em;}#sk-container-id-2 div.sk-estimator:hover {background-color: #d4ebff;}#sk-container-id-2 div.sk-parallel-item::after {content: \"\";width: 100%;border-bottom: 1px solid gray;flex-grow: 1;}#sk-container-id-2 div.sk-label:hover label.sk-toggleable__label {background-color: #d4ebff;}#sk-container-id-2 div.sk-serial::before {content: \"\";position: absolute;border-left: 1px solid gray;box-sizing: border-box;top: 0;bottom: 0;left: 50%;z-index: 0;}#sk-container-id-2 div.sk-serial {display: flex;flex-direction: column;align-items: center;background-color: white;padding-right: 0.2em;padding-left: 0.2em;position: relative;}#sk-container-id-2 div.sk-item {position: relative;z-index: 1;}#sk-container-id-2 div.sk-parallel {display: flex;align-items: stretch;justify-content: center;background-color: white;position: relative;}#sk-container-id-2 div.sk-item::before, #sk-container-id-2 div.sk-parallel-item::before {content: \"\";position: absolute;border-left: 1px solid gray;box-sizing: border-box;top: 0;bottom: 0;left: 50%;z-index: -1;}#sk-container-id-2 div.sk-parallel-item {display: flex;flex-direction: column;z-index: 1;position: relative;background-color: white;}#sk-container-id-2 div.sk-parallel-item:first-child::after {align-self: flex-end;width: 50%;}#sk-container-id-2 div.sk-parallel-item:last-child::after {align-self: flex-start;width: 50%;}#sk-container-id-2 div.sk-parallel-item:only-child::after {width: 0;}#sk-container-id-2 div.sk-dashed-wrapped {border: 1px dashed gray;margin: 0 0.4em 0.5em 0.4em;box-sizing: border-box;padding-bottom: 0.4em;background-color: white;}#sk-container-id-2 div.sk-label label {font-family: monospace;font-weight: bold;display: inline-block;line-height: 1.2em;}#sk-container-id-2 div.sk-label-container {text-align: center;}#sk-container-id-2 div.sk-container {/* jupyter's `normalize.less` sets `[hidden] { display: none; }` but bootstrap.min.css set `[hidden] { display: none !important; }` so we also need the `!important` here to be able to override the default hidden behavior on the sphinx rendered scikit-learn.org. See: https://github.com/scikit-learn/scikit-learn/issues/21755 */display: inline-block !important;position: relative;}#sk-container-id-2 div.sk-text-repr-fallback {display: none;}</style><div id=\"sk-container-id-2\" class=\"sk-top-container\"><div class=\"sk-text-repr-fallback\"><pre>XGBClassifier(base_score=None, booster=None, callbacks=None,\n",
       "              colsample_bylevel=None, colsample_bynode=None,\n",
       "              colsample_bytree=0.9142646046644476, early_stopping_rounds=None,\n",
       "              enable_categorical=False, eval_metric=None, feature_types=None,\n",
       "              gamma=0.4967196723475804, gpu_id=None, grow_policy=None,\n",
       "              importance_type=None, interaction_constraints=None,\n",
       "              learning_rate=0.1, max_bin=None, max_cat_threshold=None,\n",
       "              max_cat_to_onehot=None, max_delta_step=None, max_depth=9,\n",
       "              max_leaves=None, min_child_weight=1.5024504039270885, missing=nan,\n",
       "              monotone_constraints=None, n_estimators=120, n_jobs=None,\n",
       "              nthread=-1, num_class=2, num_parallel_tree=None, ...)</pre><b>In a Jupyter environment, please rerun this cell to show the HTML representation or trust the notebook. <br />On GitHub, the HTML representation is unable to render, please try loading this page with nbviewer.org.</b></div><div class=\"sk-container\" hidden><div class=\"sk-item\"><div class=\"sk-estimator sk-toggleable\"><input class=\"sk-toggleable__control sk-hidden--visually\" id=\"sk-estimator-id-2\" type=\"checkbox\" checked><label for=\"sk-estimator-id-2\" class=\"sk-toggleable__label sk-toggleable__label-arrow\">XGBClassifier</label><div class=\"sk-toggleable__content\"><pre>XGBClassifier(base_score=None, booster=None, callbacks=None,\n",
       "              colsample_bylevel=None, colsample_bynode=None,\n",
       "              colsample_bytree=0.9142646046644476, early_stopping_rounds=None,\n",
       "              enable_categorical=False, eval_metric=None, feature_types=None,\n",
       "              gamma=0.4967196723475804, gpu_id=None, grow_policy=None,\n",
       "              importance_type=None, interaction_constraints=None,\n",
       "              learning_rate=0.1, max_bin=None, max_cat_threshold=None,\n",
       "              max_cat_to_onehot=None, max_delta_step=None, max_depth=9,\n",
       "              max_leaves=None, min_child_weight=1.5024504039270885, missing=nan,\n",
       "              monotone_constraints=None, n_estimators=120, n_jobs=None,\n",
       "              nthread=-1, num_class=2, num_parallel_tree=None, ...)</pre></div></div></div></div></div>"
      ],
      "text/plain": [
       "XGBClassifier(base_score=None, booster=None, callbacks=None,\n",
       "              colsample_bylevel=None, colsample_bynode=None,\n",
       "              colsample_bytree=0.9142646046644476, early_stopping_rounds=None,\n",
       "              enable_categorical=False, eval_metric=None, feature_types=None,\n",
       "              gamma=0.4967196723475804, gpu_id=None, grow_policy=None,\n",
       "              importance_type=None, interaction_constraints=None,\n",
       "              learning_rate=0.1, max_bin=None, max_cat_threshold=None,\n",
       "              max_cat_to_onehot=None, max_delta_step=None, max_depth=9,\n",
       "              max_leaves=None, min_child_weight=1.5024504039270885, missing=nan,\n",
       "              monotone_constraints=None, n_estimators=120, n_jobs=None,\n",
       "              nthread=-1, num_class=2, num_parallel_tree=None, ...)"
      ]
     },
     "execution_count": 56,
     "metadata": {},
     "output_type": "execute_result"
    }
   ],
   "source": [
    "model.fit(x_train,y_train)"
   ]
  },
  {
   "cell_type": "code",
   "execution_count": 57,
   "id": "b77262ee-dbda-4e13-9ee8-f04f484b9bf0",
   "metadata": {
    "tags": []
   },
   "outputs": [],
   "source": [
    "predictions = model.predict(x_test)"
   ]
  },
  {
   "cell_type": "code",
   "execution_count": 59,
   "id": "ae3386f9-90ae-4a5b-a27f-3425bc8633ae",
   "metadata": {
    "tags": []
   },
   "outputs": [
    {
     "name": "stdout",
     "output_type": "stream",
     "text": [
      "Accuracy: 0.8907544621673906\n"
     ]
    }
   ],
   "source": [
    "accuracy = accuracy_score(predictions,y_test)\n",
    "print(f\"Accuracy: {accuracy}\")"
   ]
  },
  {
   "cell_type": "code",
   "execution_count": 61,
   "id": "5b715cd5-ad8c-4ba6-a7cb-c5eb1d520006",
   "metadata": {
    "tags": []
   },
   "outputs": [
    {
     "data": {
      "text/plain": [
       "array([[91456, 10948],\n",
       "       [ 1024,  6160]], dtype=int64)"
      ]
     },
     "execution_count": 61,
     "metadata": {},
     "output_type": "execute_result"
    }
   ],
   "source": [
    "confusion_matrix(predictions,y_test)"
   ]
  },
  {
   "cell_type": "code",
   "execution_count": 62,
   "id": "1df98333-bf1a-43a1-9db5-0f12c6d07de3",
   "metadata": {
    "tags": []
   },
   "outputs": [],
   "source": [
    "import pickle\n",
    "\n",
    "with open('fine_foods_xgboost_model.pkl', 'wb') as f:\n",
    "    pickle.dump(model, f)\n"
   ]
  },
  {
   "cell_type": "code",
   "execution_count": null,
   "id": "dc851a9e-40b1-4ee8-bac7-06f583495198",
   "metadata": {},
   "outputs": [],
   "source": []
  }
 ],
 "metadata": {
  "kernelspec": {
   "display_name": "Python 3 (ipykernel)",
   "language": "python",
   "name": "python3"
  },
  "language_info": {
   "codemirror_mode": {
    "name": "ipython",
    "version": 3
   },
   "file_extension": ".py",
   "mimetype": "text/x-python",
   "name": "python",
   "nbconvert_exporter": "python",
   "pygments_lexer": "ipython3",
   "version": "3.9.18"
  }
 },
 "nbformat": 4,
 "nbformat_minor": 5
}
